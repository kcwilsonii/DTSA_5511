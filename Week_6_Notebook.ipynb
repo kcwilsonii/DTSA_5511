{
 "cells": [
  {
   "cell_type": "markdown",
   "id": "abb21a6e",
   "metadata": {},
   "source": [
    "## CNN application using a Kaggle Tutorial.\n",
    "### I found a decent CNN tutorial which outlined the steps better than I though the classs module did and used it to see if some of things I did in the first kaggle cancer test could be aplied here as well to produce a decent final submission\n",
    "\n",
    "### This Kaggle project is a Digit Recognizer - https://www.kaggle.com/competitions/digit-recognizer\n",
    "### CNN Tutorial -- https://www.kaggle.com/code/kanncaa1/convolutional-neural-network-cnn-tutorial/notebook\n",
    "\n",
    "### I make references to another Kaggle project used for this class and my project I did for that here is <br> that link https://www.kaggle.com/code/keithrek/cnn-cancer-detection"
   ]
  },
  {
   "cell_type": "code",
   "execution_count": 1,
   "id": "039898bb",
   "metadata": {},
   "outputs": [
    {
     "name": "stdout",
     "output_type": "stream",
     "text": [
      "2.12.0\n",
      "0.31.0\n"
     ]
    }
   ],
   "source": [
    "import numpy as np\n",
    "import pandas as pd\n",
    "\n",
    "import seaborn as sns\n",
    "import matplotlib.pyplot as plt\n",
    "\n",
    "import os\n",
    "import csv\n",
    "import pathlib\n",
    "\n",
    "import itertools\n",
    "import keras\n",
    "from keras.models import Sequential\n",
    "\n",
    "from keras.layers import Dense\n",
    "from keras.layers import Dropout\n",
    "from keras.layers import Conv2D\n",
    "from keras.layers import MaxPool2D\n",
    "from keras.layers import Flatten\n",
    "from keras.layers import BatchNormalization\n",
    "from keras.layers import Activation\n",
    "\n",
    "from keras.preprocessing.image import ImageDataGenerator\n",
    "\n",
    "from keras.optimizers import SGD\n",
    "from keras.optimizers import Adam\n",
    "from keras.optimizers import RMSprop\n",
    "\n",
    "from sklearn.metrics import confusion_matrix\n",
    "\n",
    "from keras.utils.np_utils import to_categorical # convert to one-hot-encoding\n",
    "\n",
    "from keras.callbacks import ReduceLROnPlateau\n",
    "\n",
    "import tensorflow as tf\n",
    "import tensorflow_io as tfio\n",
    "import tensorflow_datasets as tfds\n",
    "\n",
    "from PIL import Image\n",
    "print(tf.__version__)\n",
    "print(tfio.__version__)\n",
    "\n",
    "plt.rcParams['figure.figsize'] = (16, 10)\n",
    "plt.rc('font', size=15)"
   ]
  },
  {
   "cell_type": "markdown",
   "id": "671b1182",
   "metadata": {},
   "source": [
    "### Set paths for different data sets\n",
    "\n"
   ]
  },
  {
   "cell_type": "code",
   "execution_count": 2,
   "id": "9302fb2e",
   "metadata": {},
   "outputs": [],
   "source": [
    "#print(pathlib.Path().absolute())\n",
    "#print (os.getcwd())\n",
    "path1 = os.getcwd()\n",
    "\n",
    "submission_file_path = path1 + '\\\\Data\\\\sample_submission.csv'\n",
    "train_path = path1 + '\\\\Data\\\\train\\\\'\n",
    "test_path = path1 + '\\\\Data\\\\test\\\\'\n",
    "\n"
   ]
  },
  {
   "cell_type": "markdown",
   "id": "2165c196",
   "metadata": {},
   "source": [
    "## EDA - Data analysis review train and test data"
   ]
  },
  {
   "cell_type": "code",
   "execution_count": 3,
   "id": "1f5c7090",
   "metadata": {},
   "outputs": [
    {
     "name": "stdout",
     "output_type": "stream",
     "text": [
      "Train Data\n",
      "\n",
      "(42000, 785)\n",
      "   label  pixel0  pixel1  pixel2  pixel3  pixel4  pixel5  pixel6  pixel7  \\\n",
      "0      1       0       0       0       0       0       0       0       0   \n",
      "1      0       0       0       0       0       0       0       0       0   \n",
      "2      1       0       0       0       0       0       0       0       0   \n",
      "3      4       0       0       0       0       0       0       0       0   \n",
      "4      0       0       0       0       0       0       0       0       0   \n",
      "\n",
      "   pixel8  ...  pixel774  pixel775  pixel776  pixel777  pixel778  pixel779  \\\n",
      "0       0  ...         0         0         0         0         0         0   \n",
      "1       0  ...         0         0         0         0         0         0   \n",
      "2       0  ...         0         0         0         0         0         0   \n",
      "3       0  ...         0         0         0         0         0         0   \n",
      "4       0  ...         0         0         0         0         0         0   \n",
      "\n",
      "   pixel780  pixel781  pixel782  pixel783  \n",
      "0         0         0         0         0  \n",
      "1         0         0         0         0  \n",
      "2         0         0         0         0  \n",
      "3         0         0         0         0  \n",
      "4         0         0         0         0  \n",
      "\n",
      "[5 rows x 785 columns]\n",
      "\n",
      "\n",
      "Test Data\n",
      "\n",
      "(28000, 784)\n",
      "   pixel0  pixel1  pixel2  pixel3  pixel4  pixel5  pixel6  pixel7  pixel8  \\\n",
      "0       0       0       0       0       0       0       0       0       0   \n",
      "1       0       0       0       0       0       0       0       0       0   \n",
      "2       0       0       0       0       0       0       0       0       0   \n",
      "3       0       0       0       0       0       0       0       0       0   \n",
      "4       0       0       0       0       0       0       0       0       0   \n",
      "\n",
      "   pixel9  ...  pixel774  pixel775  pixel776  pixel777  pixel778  pixel779  \\\n",
      "0       0  ...         0         0         0         0         0         0   \n",
      "1       0  ...         0         0         0         0         0         0   \n",
      "2       0  ...         0         0         0         0         0         0   \n",
      "3       0  ...         0         0         0         0         0         0   \n",
      "4       0  ...         0         0         0         0         0         0   \n",
      "\n",
      "   pixel780  pixel781  pixel782  pixel783  \n",
      "0         0         0         0         0  \n",
      "1         0         0         0         0  \n",
      "2         0         0         0         0  \n",
      "3         0         0         0         0  \n",
      "4         0         0         0         0  \n",
      "\n",
      "[5 rows x 784 columns]\n"
     ]
    }
   ],
   "source": [
    "# read train \n",
    "train_filename = \"train.csv\"\n",
    "test_filename = \"test.csv\"\n",
    "\n",
    "print(\"Train Data\")\n",
    "print()\n",
    "train_filepath = train_path + train_filename\n",
    "train_data = pd.read_csv(train_filepath)\n",
    "print(train_data.shape)\n",
    "print(train_data.head())\n",
    "\n",
    "print()\n",
    "print()\n",
    "print(\"Test Data\")\n",
    "print()\n",
    "test_filepath = test_path + test_filename\n",
    "test_data = pd.read_csv(test_filepath)\n",
    "print(test_data.shape)\n",
    "print(test_data.head())\n"
   ]
  },
  {
   "cell_type": "markdown",
   "id": "22d7954e",
   "metadata": {},
   "source": [
    "## Review Training Data, the labels seem pretty evenly distributed with a few standouts at over 10% each of the data that consists of the Y train set"
   ]
  },
  {
   "cell_type": "code",
   "execution_count": 4,
   "id": "cba2c4b7",
   "metadata": {},
   "outputs": [
    {
     "data": {
      "image/png": "[encoded data removed]",
      "text/plain": [
       "<Figure size 432x288 with 1 Axes>"
      ]
     },
     "metadata": {
      "needs_background": "light"
     },
     "output_type": "display_data"
    },
    {
     "name": "stdout",
     "output_type": "stream",
     "text": [
      "\n",
      "Label counts:\n",
      " 1    4684\n",
      "7    4401\n",
      "3    4351\n",
      "9    4188\n",
      "2    4177\n",
      "6    4137\n",
      "0    4132\n",
      "4    4072\n",
      "8    4063\n",
      "5    3795\n",
      "Name: label, dtype: int64\n",
      "\n",
      "percent of total:\n",
      " 1    11.15\n",
      "7    10.48\n",
      "3    10.36\n",
      "9     9.97\n",
      "2     9.95\n",
      "6     9.85\n",
      "0     9.84\n",
      "4     9.70\n",
      "8     9.67\n",
      "5     9.04\n",
      "Name: label, dtype: float64\n",
      "\n",
      "label_total:  42000\n"
     ]
    }
   ],
   "source": [
    "x1 = train_data[\"label\"]\n",
    "\n",
    "plt.hist(x1, rwidth=0.7)\n",
    "  \n",
    "plt.ylabel(\"Quantity\")\n",
    "plt.xlabel(\"Label Value\")\n",
    "plt.xticks(np.arange(min(x1), max(x1)+1, 1.0))\n",
    "#plt.xticks(train_data[\"label\"])\n",
    "plt.show()\n",
    "\n",
    "Total1 = sum(train_data[\"label\"].value_counts())\n",
    "Percent_total = (train_data[\"label\"].value_counts()/Total1)*100\n",
    "print()\n",
    "print(\"Label counts:\\n\", train_data[\"label\"].value_counts())\n",
    "print()\n",
    "print(\"percent of total:\\n\",Percent_total.round(2))    \n",
    "print()\n",
    "print(\"label_total: \" , sum(train_data[\"label\"].value_counts()))"
   ]
  },
  {
   "cell_type": "code",
   "execution_count": 5,
   "id": "15b4cc29",
   "metadata": {},
   "outputs": [],
   "source": [
    "# put labels into y_train variable\n",
    "Y_train_data = train_data[\"label\"]\n",
    "# Drop 'label' column\n",
    "X_train_data = train_data.drop(labels = [\"label\"],axis = 1) "
   ]
  },
  {
   "cell_type": "markdown",
   "id": "925f9d15",
   "metadata": {},
   "source": [
    "### Get a good view of what each data item looks like. The .values function returns a matrix like the previously used function of as_matrix id for a series data type"
   ]
  },
  {
   "cell_type": "code",
   "execution_count": 6,
   "id": "bf26a793",
   "metadata": {},
   "outputs": [
    {
     "name": "stdout",
     "output_type": "stream",
     "text": [
      "<class 'pandas.core.series.Series'>\n",
      "pixel0      0\n",
      "pixel1      0\n",
      "pixel2      0\n",
      "pixel3      0\n",
      "pixel4      0\n",
      "           ..\n",
      "pixel779    0\n",
      "pixel780    0\n",
      "pixel781    0\n",
      "pixel782    0\n",
      "pixel783    0\n",
      "Name: 0, Length: 784, dtype: int64\n",
      "[  0   0   0   0   0   0   0   0   0   0   0   0   0   0   0   0   0   0\n",
      "   0   0   0   0   0   0   0   0   0   0   0   0   0   0   0   0   0   0\n",
      "   0   0   0   0   0   0   0   0   0   0   0   0   0   0   0   0   0   0\n",
      "   0   0   0   0   0   0   0   0   0   0   0   0   0   0   0   0   0   0\n",
      "   0   0   0   0   0   0   0   0   0   0   0   0   0   0   0   0   0   0\n",
      "   0   0   0   0   0   0   0   0   0   0   0   0   0   0   0   0   0   0\n",
      "   0   0   0   0   0   0   0   0   0   0   0   0   0   0   0   0   0   0\n",
      "   0   0   0   0   0   0 188 255  94   0   0   0   0   0   0   0   0   0\n",
      "   0   0   0   0   0   0   0   0   0   0   0   0   0   0   0 191 250 253\n",
      "  93   0   0   0   0   0   0   0   0   0   0   0   0   0   0   0   0   0\n",
      "   0   0   0   0   0   0 123 248 253 167  10   0   0   0   0   0   0   0\n",
      "   0   0   0   0   0   0   0   0   0   0   0   0   0   0   0  80 247 253\n",
      " 208  13   0   0   0   0   0   0   0   0   0   0   0   0   0   0   0   0\n",
      "   0   0   0   0   0   0  29 207 253 235  77   0   0   0   0   0   0   0\n",
      "   0   0   0   0   0   0   0   0   0   0   0   0   0   0   0  54 209 253\n",
      " 253  88   0   0   0   0   0   0   0   0   0   0   0   0   0   0   0   0\n",
      "   0   0   0   0   0   0  93 254 253 238 170  17   0   0   0   0   0   0\n",
      "   0   0   0   0   0   0   0   0   0   0   0   0   0   0   0  23 210 254\n",
      " 253 159   0   0   0   0   0   0   0   0   0   0   0   0   0   0   0   0\n",
      "   0   0   0   0   0   0  16 209 253 254 240  81   0   0   0   0   0   0\n",
      "   0   0   0   0   0   0   0   0   0   0   0   0   0   0   0   0  27 253\n",
      " 253 254  13   0   0   0   0   0   0   0   0   0   0   0   0   0   0   0\n",
      "   0   0   0   0   0   0   0  20 206 254 254 198   7   0   0   0   0   0\n",
      "   0   0   0   0   0   0   0   0   0   0   0   0   0   0   0   0   0 168\n",
      " 253 253 196   7   0   0   0   0   0   0   0   0   0   0   0   0   0   0\n",
      "   0   0   0   0   0   0   0   0  20 203 253 248  76   0   0   0   0   0\n",
      "   0   0   0   0   0   0   0   0   0   0   0   0   0   0   0   0   0  22\n",
      " 188 253 245  93   0   0   0   0   0   0   0   0   0   0   0   0   0   0\n",
      "   0   0   0   0   0   0   0   0   0 103 253 253 191   0   0   0   0   0\n",
      "   0   0   0   0   0   0   0   0   0   0   0   0   0   0   0   0   0   0\n",
      "  89 240 253 195  25   0   0   0   0   0   0   0   0   0   0   0   0   0\n",
      "   0   0   0   0   0   0   0   0   0  15 220 253 253  80   0   0   0   0\n",
      "   0   0   0   0   0   0   0   0   0   0   0   0   0   0   0   0   0   0\n",
      "   0  94 253 253 253  94   0   0   0   0   0   0   0   0   0   0   0   0\n",
      "   0   0   0   0   0   0   0   0   0   0   0  89 251 253 250 131   0   0\n",
      "   0   0   0   0   0   0   0   0   0   0   0   0   0   0   0   0   0   0\n",
      "   0   0   0   0 214 218  95   0   0   0   0   0   0   0   0   0   0   0\n",
      "   0   0   0   0   0   0   0   0   0   0   0   0   0   0   0   0   0   0\n",
      "   0   0   0   0   0   0   0   0   0   0   0   0   0   0   0   0   0   0\n",
      "   0   0   0   0   0   0   0   0   0   0   0   0   0   0   0   0   0   0\n",
      "   0   0   0   0   0   0   0   0   0   0   0   0   0   0   0   0   0   0\n",
      "   0   0   0   0   0   0   0   0   0   0   0   0   0   0   0   0   0   0\n",
      "   0   0   0   0   0   0   0   0   0   0   0   0   0   0   0   0   0   0\n",
      "   0   0   0   0   0   0   0   0   0   0]\n"
     ]
    }
   ],
   "source": [
    "print(type(X_train_data.iloc[0]))\n",
    "print(X_train_data.iloc[0])\n",
    "test = X_train_data.iloc[0]\n",
    "print(test.values)"
   ]
  },
  {
   "cell_type": "markdown",
   "id": "459c3b81",
   "metadata": {},
   "source": [
    "## Show actual Image"
   ]
  },
  {
   "cell_type": "code",
   "execution_count": 7,
   "id": "5949facf",
   "metadata": {},
   "outputs": [
    {
     "data": {
      "image/png": "[encoded data removed]",
      "text/plain": [
       "<Figure size 432x288 with 1 Axes>"
      ]
     },
     "metadata": {
      "needs_background": "light"
     },
     "output_type": "display_data"
    }
   ],
   "source": [
    "img = X_train_data.iloc[0].values\n",
    "img = img.reshape((28,28))\n",
    "plt.imshow(img,cmap='gray')\n",
    "plt.title(X_train_data.iloc[0,0])\n",
    "plt.axis(\"off\")\n",
    "plt.show()"
   ]
  },
  {
   "cell_type": "markdown",
   "id": "c177391f",
   "metadata": {},
   "source": [
    "## Maintenance steps to allow for better CNN"
   ]
  },
  {
   "cell_type": "code",
   "execution_count": 8,
   "id": "a9364edf",
   "metadata": {},
   "outputs": [
    {
     "name": "stdout",
     "output_type": "stream",
     "text": [
      "x_train shape:  (42000, 784)\n",
      "test shape:  (28000, 784)\n",
      "x_train shape:  (42000, 28, 28, 1)\n",
      "test shape:  (28000, 28, 28, 1)\n"
     ]
    }
   ],
   "source": [
    "# Normalize the data\n",
    "X_train_data = X_train_data / 255.0\n",
    "test_data = test_data / 255.0\n",
    "print(\"x_train shape: \",X_train_data.shape)\n",
    "print(\"test shape: \",test_data.shape)\n",
    "\n",
    "# Reshape\n",
    "X_train_data = X_train_data.values.reshape(-1,28,28,1)\n",
    "test_data = test_data.values.reshape(-1,28,28,1)\n",
    "print(\"x_train shape: \",X_train_data.shape)\n",
    "print(\"test shape: \",test_data.shape)\n",
    "\n",
    "# Label Encoding \n",
    "from keras.utils.np_utils import to_categorical # convert to one-hot-encoding\n",
    "Y_train_data = to_categorical(Y_train_data, num_classes = 10)\n"
   ]
  },
  {
   "cell_type": "markdown",
   "id": "78f6e24a",
   "metadata": {},
   "source": [
    "## Train and validation set splits"
   ]
  },
  {
   "cell_type": "code",
   "execution_count": 9,
   "id": "464685fc",
   "metadata": {},
   "outputs": [
    {
     "name": "stdout",
     "output_type": "stream",
     "text": [
      "x_train shape (33600, 28, 28, 1)\n",
      "x_test shape (8400, 28, 28, 1)\n",
      "y_train shape (33600, 10)\n",
      "y_test shape (8400, 10)\n"
     ]
    }
   ],
   "source": [
    "# Split the train and the validation set for the fitting\n",
    "from sklearn.model_selection import train_test_split\n",
    "X_train1, X_val1, Y_train1, Y_val1 = train_test_split(X_train_data, Y_train_data, test_size = 0.2, random_state=2)\n",
    "print(\"x_train shape\",X_train1.shape)\n",
    "print(\"x_test shape\",X_val1.shape)\n",
    "print(\"y_train shape\",Y_train1.shape)\n",
    "print(\"y_test shape\",Y_val1.shape)"
   ]
  },
  {
   "cell_type": "markdown",
   "id": "044e9d8b",
   "metadata": {},
   "source": [
    "## Setting up the model\n",
    "\n",
    "### I am new to trying to design a neural network with CNN and using this as a second project to get better acquainted with how it functions and if what I applied before witll still work well on this Kaggle Set.\n",
    "\n",
    "### Below the Tutorial model and my modified model from the cancer kaggle CNN project are shown for comparison\n",
    "\n"
   ]
  },
  {
   "cell_type": "markdown",
   "id": "f333ffe8",
   "metadata": {},
   "source": [
    "#### original model from tutorial"
   ]
  },
  {
   "cell_type": "code",
   "execution_count": 10,
   "id": "b362e2f3",
   "metadata": {},
   "outputs": [
    {
     "name": "stdout",
     "output_type": "stream",
     "text": [
      "Model: \"sequential\"\n",
      "_________________________________________________________________\n",
      " Layer (type)                Output Shape              Param #   \n",
      "=================================================================\n",
      " conv2d (Conv2D)             (None, 28, 28, 8)         208       \n",
      "                                                                 \n",
      " max_pooling2d (MaxPooling2D  (None, 14, 14, 8)        0         \n",
      " )                                                               \n",
      "                                                                 \n",
      " dropout (Dropout)           (None, 14, 14, 8)         0         \n",
      "                                                                 \n",
      " conv2d_1 (Conv2D)           (None, 14, 14, 16)        1168      \n",
      "                                                                 \n",
      " max_pooling2d_1 (MaxPooling  (None, 7, 7, 16)         0         \n",
      " 2D)                                                             \n",
      "                                                                 \n",
      " dropout_1 (Dropout)         (None, 7, 7, 16)          0         \n",
      "                                                                 \n",
      " flatten (Flatten)           (None, 784)               0         \n",
      "                                                                 \n",
      " dense (Dense)               (None, 256)               200960    \n",
      "                                                                 \n",
      " dropout_2 (Dropout)         (None, 256)               0         \n",
      "                                                                 \n",
      " dense_1 (Dense)             (None, 10)                2570      \n",
      "                                                                 \n",
      "=================================================================\n",
      "Total params: 204,906\n",
      "Trainable params: 204,906\n",
      "Non-trainable params: 0\n",
      "_________________________________________________________________\n"
     ]
    }
   ],
   "source": [
    "model = Sequential()\n",
    "#\n",
    "model.add(Conv2D(filters = 8, kernel_size = (5,5),padding = 'Same', \n",
    "                 activation ='relu', input_shape = (28,28,1)))\n",
    "model.add(MaxPool2D(pool_size=(2,2)))\n",
    "model.add(Dropout(0.25))\n",
    "#\n",
    "model.add(Conv2D(filters = 16, kernel_size = (3,3),padding = 'Same', \n",
    "                 activation ='relu'))\n",
    "model.add(MaxPool2D(pool_size=(2,2), strides=(2,2)))\n",
    "model.add(Dropout(0.25))\n",
    "# fully connected\n",
    "model.add(Flatten())\n",
    "model.add(Dense(256, activation = \"relu\"))\n",
    "model.add(Dropout(0.5))\n",
    "model.add(Dense(10, activation = \"softmax\"))\n",
    "model.summary()"
   ]
  },
  {
   "cell_type": "markdown",
   "id": "552420b0",
   "metadata": {},
   "source": [
    "## My Model slightly modified from the version used in the cancer image test to work with this project"
   ]
  },
  {
   "cell_type": "code",
   "execution_count": 11,
   "id": "4e23e08b",
   "metadata": {},
   "outputs": [
    {
     "name": "stdout",
     "output_type": "stream",
     "text": [
      "Model: \"sequential_1\"\n",
      "_________________________________________________________________\n",
      " Layer (type)                Output Shape              Param #   \n",
      "=================================================================\n",
      " conv2d_2 (Conv2D)           (None, 28, 28, 8)         208       \n",
      "                                                                 \n",
      " max_pooling2d_2 (MaxPooling  (None, 14, 14, 8)        0         \n",
      " 2D)                                                             \n",
      "                                                                 \n",
      " conv2d_3 (Conv2D)           (None, 14, 14, 16)        1168      \n",
      "                                                                 \n",
      " max_pooling2d_3 (MaxPooling  (None, 7, 7, 16)         0         \n",
      " 2D)                                                             \n",
      "                                                                 \n",
      " flatten_1 (Flatten)         (None, 784)               0         \n",
      "                                                                 \n",
      " dense_2 (Dense)             (None, 10)                7850      \n",
      "                                                                 \n",
      "=================================================================\n",
      "Total params: 9,226\n",
      "Trainable params: 9,226\n",
      "Non-trainable params: 0\n",
      "_________________________________________________________________\n"
     ]
    }
   ],
   "source": [
    "CNN_Model1 = Sequential()\n",
    "\n",
    "fig_size = 28\n",
    "activation_value1 = 'relu'\n",
    "activation_value2 = 'sigmoid'\n",
    "activation_value3 = 'softmax'\n",
    "\n",
    "CNN_Model1.add(Conv2D(filters = 8, kernel_size=(5,5),padding = 'Same', activation=activation_value1, input_shape = (28,28,1)))\n",
    "CNN_Model1.add(MaxPool2D(pool_size=(2,2)))\n",
    "\n",
    "CNN_Model1.add(Conv2D(filters=16, kernel_size=(3,3),padding = 'Same', activation=activation_value1))\n",
    "CNN_Model1.add(MaxPool2D(pool_size=(2,2)))\n",
    "\n",
    "\n",
    "CNN_Model1.add(Flatten())\n",
    "CNN_Model1.add(Dense(units=10, activation=activation_value3))\n",
    "\n",
    "#batch_size = 250\n",
    "#CNN_Model1.build(input_shape=(batch_size, fig_size, fig_size, 3))\n",
    "CNN_Model1.summary()"
   ]
  },
  {
   "cell_type": "markdown",
   "id": "969cafcb",
   "metadata": {},
   "source": [
    "## Compile the model"
   ]
  },
  {
   "cell_type": "code",
   "execution_count": 12,
   "id": "08a1ef82",
   "metadata": {},
   "outputs": [],
   "source": [
    "#Optimizer1 = SGD(name= \"SGD\", learning_rate = 0.0001, nesterov = False, momentum = 0.0)\n",
    "Optimizer1 = Adam(learning_rate=0.001)\n",
    "#optimizer = Adam(learning_rate=0.001, beta_1=0.9, beta_2=0.999)\n",
    "\n",
    "#model.compile(optimizer=Optimizer1, loss =  \"categorical_crossentropy\", metrics = ['accuracy'])\n",
    "CNN_Model1.compile(optimizer=Optimizer1, loss =  \"categorical_crossentropy\", metrics = ['accuracy'])\n",
    "#CNN_Model1.compile(optimizer=Optimizer1, loss='binary_crossentropy', metrics=['accuracy'])"
   ]
  },
  {
   "cell_type": "markdown",
   "id": "3e8a415c",
   "metadata": {},
   "source": [
    "## Image generator for this set is designed make various changes for which some are subtle and others are not. Change examples are are axis rotating , scale changes and uncentering the image to vary it from the original input image"
   ]
  },
  {
   "cell_type": "code",
   "execution_count": 13,
   "id": "779ec1dd",
   "metadata": {},
   "outputs": [],
   "source": [
    "\n",
    "\n",
    "Image_Gen1 = ImageDataGenerator(\n",
    "        featurewise_center=False,  # set input mean to 0 over the dataset\n",
    "        samplewise_center=False,  # set each sample mean to 0\n",
    "        featurewise_std_normalization=False,  # divide inputs by std of the dataset\n",
    "        samplewise_std_normalization=False,  # divide each input by its std\n",
    "        zca_whitening=False,  # dimesion reduction\n",
    "        rotation_range=5,  # randomly rotate images in the range 5 degrees\n",
    "        zoom_range = 0.1, # Randomly zoom image 10%\n",
    "        width_shift_range=0.1,  # randomly shift images horizontally 10%\n",
    "        height_shift_range=0.1,  # randomly shift images vertically 10%\n",
    "        horizontal_flip=False,  # randomly flip images\n",
    "        vertical_flip=False)  # randomly flip images\n",
    "\n"
   ]
  },
  {
   "cell_type": "markdown",
   "id": "e5e77da6",
   "metadata": {},
   "source": [
    "## Running and Building the model history dataset\n"
   ]
  },
  {
   "cell_type": "code",
   "execution_count": 14,
   "id": "9eeeb76a",
   "metadata": {},
   "outputs": [
    {
     "name": "stdout",
     "output_type": "stream",
     "text": [
      "Epoch 1/40\n",
      "262/262 [==============================] - 12s 43ms/step - loss: 0.9733 - accuracy: 0.6888 - val_loss: 0.2201 - val_accuracy: 0.9412\n",
      "Epoch 2/40\n",
      "262/262 [==============================] - 11s 41ms/step - loss: 0.3236 - accuracy: 0.9046 - val_loss: 0.1380 - val_accuracy: 0.9631\n",
      "Epoch 3/40\n",
      "262/262 [==============================] - 11s 41ms/step - loss: 0.2412 - accuracy: 0.9302 - val_loss: 0.1296 - val_accuracy: 0.9650\n",
      "Epoch 4/40\n",
      "262/262 [==============================] - 11s 41ms/step - loss: 0.2031 - accuracy: 0.9405 - val_loss: 0.1133 - val_accuracy: 0.9667\n",
      "Epoch 5/40\n",
      "262/262 [==============================] - 11s 41ms/step - loss: 0.1804 - accuracy: 0.9473 - val_loss: 0.1021 - val_accuracy: 0.9696\n",
      "Epoch 6/40\n",
      "262/262 [==============================] - 11s 41ms/step - loss: 0.1660 - accuracy: 0.9521 - val_loss: 0.0909 - val_accuracy: 0.9715\n",
      "Epoch 7/40\n",
      "262/262 [==============================] - 11s 41ms/step - loss: 0.1562 - accuracy: 0.9532 - val_loss: 0.1280 - val_accuracy: 0.9606\n",
      "Epoch 8/40\n",
      "262/262 [==============================] - 11s 42ms/step - loss: 0.1497 - accuracy: 0.9550 - val_loss: 0.0974 - val_accuracy: 0.9721\n",
      "Epoch 9/40\n",
      "262/262 [==============================] - 11s 41ms/step - loss: 0.1380 - accuracy: 0.9584 - val_loss: 0.0890 - val_accuracy: 0.9736\n",
      "Epoch 10/40\n",
      "262/262 [==============================] - 11s 41ms/step - loss: 0.1336 - accuracy: 0.9609 - val_loss: 0.0861 - val_accuracy: 0.9731\n",
      "Epoch 11/40\n",
      "262/262 [==============================] - 11s 41ms/step - loss: 0.1340 - accuracy: 0.9611 - val_loss: 0.0748 - val_accuracy: 0.9762\n",
      "Epoch 12/40\n",
      "262/262 [==============================] - 11s 42ms/step - loss: 0.1278 - accuracy: 0.9615 - val_loss: 0.0717 - val_accuracy: 0.9769\n",
      "Epoch 13/40\n",
      "262/262 [==============================] - 11s 41ms/step - loss: 0.1229 - accuracy: 0.9638 - val_loss: 0.0749 - val_accuracy: 0.9776\n",
      "Epoch 14/40\n",
      "262/262 [==============================] - 11s 43ms/step - loss: 0.1202 - accuracy: 0.9631 - val_loss: 0.0768 - val_accuracy: 0.9773\n",
      "Epoch 15/40\n",
      "262/262 [==============================] - 11s 42ms/step - loss: 0.1123 - accuracy: 0.9668 - val_loss: 0.0760 - val_accuracy: 0.9752\n",
      "Epoch 16/40\n",
      "262/262 [==============================] - 11s 41ms/step - loss: 0.1092 - accuracy: 0.9677 - val_loss: 0.0790 - val_accuracy: 0.9748\n",
      "Epoch 17/40\n",
      "262/262 [==============================] - 11s 41ms/step - loss: 0.1093 - accuracy: 0.9680 - val_loss: 0.0722 - val_accuracy: 0.9788\n",
      "Epoch 18/40\n",
      "262/262 [==============================] - 11s 42ms/step - loss: 0.1026 - accuracy: 0.9696 - val_loss: 0.0768 - val_accuracy: 0.9757\n",
      "Epoch 19/40\n",
      "262/262 [==============================] - 11s 41ms/step - loss: 0.1033 - accuracy: 0.9691 - val_loss: 0.0591 - val_accuracy: 0.9821\n",
      "Epoch 20/40\n",
      "262/262 [==============================] - 11s 42ms/step - loss: 0.0990 - accuracy: 0.9707 - val_loss: 0.0700 - val_accuracy: 0.9786\n",
      "Epoch 21/40\n",
      "262/262 [==============================] - 11s 41ms/step - loss: 0.0990 - accuracy: 0.9712 - val_loss: 0.0578 - val_accuracy: 0.9826\n",
      "Epoch 22/40\n",
      "262/262 [==============================] - 11s 41ms/step - loss: 0.0935 - accuracy: 0.9728 - val_loss: 0.0608 - val_accuracy: 0.9814\n",
      "Epoch 23/40\n",
      "262/262 [==============================] - 11s 42ms/step - loss: 0.0933 - accuracy: 0.9721 - val_loss: 0.0602 - val_accuracy: 0.9813\n",
      "Epoch 24/40\n",
      "262/262 [==============================] - 11s 41ms/step - loss: 0.0884 - accuracy: 0.9731 - val_loss: 0.0608 - val_accuracy: 0.9818\n",
      "Epoch 25/40\n",
      "262/262 [==============================] - 11s 41ms/step - loss: 0.0890 - accuracy: 0.9729 - val_loss: 0.0620 - val_accuracy: 0.9823\n",
      "Epoch 26/40\n",
      "262/262 [==============================] - 11s 42ms/step - loss: 0.0853 - accuracy: 0.9737 - val_loss: 0.0573 - val_accuracy: 0.9820\n",
      "Epoch 27/40\n",
      "262/262 [==============================] - 11s 41ms/step - loss: 0.0826 - accuracy: 0.9742 - val_loss: 0.0505 - val_accuracy: 0.9842\n",
      "Epoch 28/40\n",
      "262/262 [==============================] - 11s 42ms/step - loss: 0.0818 - accuracy: 0.9749 - val_loss: 0.0532 - val_accuracy: 0.9838\n",
      "Epoch 29/40\n",
      "262/262 [==============================] - 11s 41ms/step - loss: 0.0824 - accuracy: 0.9747 - val_loss: 0.0566 - val_accuracy: 0.9823\n",
      "Epoch 30/40\n",
      "262/262 [==============================] - 11s 41ms/step - loss: 0.0802 - accuracy: 0.9756 - val_loss: 0.0595 - val_accuracy: 0.9821\n",
      "Epoch 31/40\n",
      "262/262 [==============================] - 11s 44ms/step - loss: 0.0790 - accuracy: 0.9765 - val_loss: 0.0585 - val_accuracy: 0.9824\n",
      "Epoch 32/40\n",
      "262/262 [==============================] - 11s 42ms/step - loss: 0.0783 - accuracy: 0.9768 - val_loss: 0.0474 - val_accuracy: 0.9858\n",
      "Epoch 33/40\n",
      "262/262 [==============================] - 11s 42ms/step - loss: 0.0723 - accuracy: 0.9776 - val_loss: 0.0508 - val_accuracy: 0.9846\n",
      "Epoch 34/40\n",
      "262/262 [==============================] - 11s 40ms/step - loss: 0.0750 - accuracy: 0.9775 - val_loss: 0.0477 - val_accuracy: 0.9856\n",
      "Epoch 35/40\n",
      "262/262 [==============================] - 11s 41ms/step - loss: 0.0716 - accuracy: 0.9785 - val_loss: 0.0522 - val_accuracy: 0.9829\n",
      "Epoch 36/40\n",
      "262/262 [==============================] - 11s 42ms/step - loss: 0.0720 - accuracy: 0.9791 - val_loss: 0.0485 - val_accuracy: 0.9832\n",
      "Epoch 37/40\n",
      "262/262 [==============================] - 11s 41ms/step - loss: 0.0706 - accuracy: 0.9786 - val_loss: 0.0446 - val_accuracy: 0.9852\n",
      "Epoch 38/40\n",
      "262/262 [==============================] - 11s 42ms/step - loss: 0.0712 - accuracy: 0.9782 - val_loss: 0.0485 - val_accuracy: 0.9849\n",
      "Epoch 39/40\n",
      "262/262 [==============================] - 11s 41ms/step - loss: 0.0689 - accuracy: 0.9799 - val_loss: 0.0529 - val_accuracy: 0.9837\n",
      "Epoch 40/40\n",
      "262/262 [==============================] - 11s 42ms/step - loss: 0.0684 - accuracy: 0.9786 - val_loss: 0.0465 - val_accuracy: 0.9843\n"
     ]
    }
   ],
   "source": [
    "epoch_count = 40  # for better result increase the epochs\n",
    "batch_size = 128\n",
    "\n",
    "Image_Gen1.fit(X_train1)\n",
    "Steps_for_Epochs = X_train1.shape[0]\n",
    "# Fit the model\n",
    "#CNN_Fina11 = model.fit(Image_Gen1.flow(X_train1,Y_train1, batch_size=batch_size),\n",
    "#                              epochs = epoch_count, validation_data = (X_val1,Y_val1), steps_per_epoch=Steps_for_Epochs // batch_size)\n",
    "CNN_Final2 = CNN_Model1.fit(Image_Gen1.flow(X_train1,Y_train1, batch_size=batch_size), shuffle = True,\n",
    "                              epochs = epoch_count, validation_data = (X_val1,Y_val1), steps_per_epoch=Steps_for_Epochs // batch_size)\n"
   ]
  },
  {
   "cell_type": "markdown",
   "id": "f558b001",
   "metadata": {},
   "source": [
    "## Check for overfitting on Loss and Accuracy and changing positions on the charts <br> for Train vs validate\n",
    "\n",
    "### Plot Train and Validation Loss Results"
   ]
  },
  {
   "cell_type": "code",
   "execution_count": 17,
   "id": "f6897d34",
   "metadata": {},
   "outputs": [
    {
     "data": {
      "image/png": "[encoded data removed]",
      "text/plain": [
       "<Figure size 432x288 with 1 Axes>"
      ]
     },
     "metadata": {
      "needs_background": "light"
     },
     "output_type": "display_data"
    },
    {
     "data": {
      "text/plain": [
       "<Figure size 432x288 with 0 Axes>"
      ]
     },
     "metadata": {},
     "output_type": "display_data"
    }
   ],
   "source": [
    "plt.plot(CNN_Final2.history['loss'], label='train loss')\n",
    "plt.plot(CNN_Final2.history['val_loss'], label='validate loss')\n",
    "plt.legend()\n",
    "plt.show()\n",
    "plt.savefig('Loss_Comparison')"
   ]
  },
  {
   "cell_type": "markdown",
   "id": "0363be8b",
   "metadata": {},
   "source": [
    "### Plot Train and Validation Accuracy Results"
   ]
  },
  {
   "cell_type": "code",
   "execution_count": 18,
   "id": "d990de7e",
   "metadata": {},
   "outputs": [
    {
     "data": {
      "image/png": "[encoded data removed]",
      "text/plain": [
       "<Figure size 432x288 with 1 Axes>"
      ]
     },
     "metadata": {
      "needs_background": "light"
     },
     "output_type": "display_data"
    },
    {
     "data": {
      "text/plain": [
       "<Figure size 432x288 with 0 Axes>"
      ]
     },
     "metadata": {},
     "output_type": "display_data"
    }
   ],
   "source": [
    "plt.plot(CNN_Final2.history['accuracy'], label='train accuracy')\n",
    "plt.plot(CNN_Final2.history['val_accuracy'], label='validate accuracy')\n",
    "plt.legend()\n",
    "plt.show()\n",
    "plt.savefig('Accuracy_Comparison')"
   ]
  },
  {
   "cell_type": "markdown",
   "id": "9bcff450",
   "metadata": {},
   "source": [
    "## Predict values and output to confusion matrix"
   ]
  },
  {
   "cell_type": "code",
   "execution_count": 19,
   "id": "f613d352",
   "metadata": {},
   "outputs": [
    {
     "name": "stdout",
     "output_type": "stream",
     "text": [
      "263/263 [==============================] - 2s 6ms/step\n"
     ]
    },
    {
     "data": {
      "image/png": "[encoded data removed]",
      "text/plain": [
       "<Figure size 576x576 with 2 Axes>"
      ]
     },
     "metadata": {
      "needs_background": "light"
     },
     "output_type": "display_data"
    }
   ],
   "source": [
    "\n",
    "# Predict the values from the validation dataset\n",
    "Y_pred = CNN_Model1.predict(X_val1)\n",
    "\n",
    "# Convert predictions classes to one hot vectors \n",
    "Y_pred_classes = np.argmax(Y_pred,axis = 1) \n",
    "\n",
    "# Convert validation observations to one hot vectors\n",
    "Y_true = np.argmax(Y_val1,axis = 1) \n",
    "\n",
    "# compute the confusion matrix\n",
    "confusion_mtx = confusion_matrix(Y_true, Y_pred_classes) \n",
    "\n",
    "# plot the confusion matrix\n",
    "f,ax = plt.subplots(figsize=(8, 8))\n",
    "sns.heatmap(confusion_mtx, annot=True, linewidths=0.01,cmap=\"Greens\",linecolor=\"gray\", fmt= '.1f',ax=ax)\n",
    "plt.xlabel(\"Predicted Label\")\n",
    "plt.ylabel(\"True Label\")\n",
    "plt.title(\"Confusion Matrix\")\n",
    "plt.show()"
   ]
  },
  {
   "cell_type": "markdown",
   "id": "e5946f87",
   "metadata": {},
   "source": [
    "## Export Prediction results to file for Kaggle Submission\n",
    "\n"
   ]
  },
  {
   "cell_type": "code",
   "execution_count": 20,
   "id": "edf57ddb",
   "metadata": {},
   "outputs": [
    {
     "name": "stdout",
     "output_type": "stream",
     "text": [
      "875/875 [==============================] - 5s 6ms/step\n"
     ]
    }
   ],
   "source": [
    "Y_pred = CNN_Model1.predict(test_data)"
   ]
  },
  {
   "cell_type": "code",
   "execution_count": 21,
   "id": "cdd3a453",
   "metadata": {},
   "outputs": [
    {
     "name": "stdout",
     "output_type": "stream",
     "text": [
      "[[2.4328862e-11 9.8619589e-15 1.0000000e+00 ... 1.0758057e-09\n",
      "  1.1584109e-11 7.0890097e-15]\n",
      " [9.9318355e-01 5.3305897e-15 3.6500976e-03 ... 9.1674514e-07\n",
      "  3.0271554e-05 5.2276306e-04]\n",
      " [7.7354928e-10 8.1804130e-10 2.0982060e-07 ... 1.9424007e-05\n",
      "  2.4413789e-04 9.9960548e-01]\n",
      " ...\n",
      " [6.9102824e-13 2.4986339e-15 3.4447012e-07 ... 4.9039022e-09\n",
      "  2.0490493e-06 3.2921864e-07]\n",
      " [6.3099452e-07 2.3932043e-07 1.0490021e-05 ... 7.6908898e-04\n",
      "  1.8888810e-05 9.9742067e-01]\n",
      " [1.9632553e-12 1.7287069e-17 1.0000000e+00 ... 9.5187400e-13\n",
      "  8.3277065e-09 4.0418610e-12]]\n",
      "[2 0 9 ... 3 9 2]\n",
      "28000\n"
     ]
    }
   ],
   "source": [
    "print(Y_pred)\n",
    "print(np.argmax(Y_pred, axis=1))\n",
    "Submission_labels = np.argmax(Y_pred, axis=1)\n",
    "print(len(Y_pred))"
   ]
  },
  {
   "cell_type": "code",
   "execution_count": 22,
   "id": "47ef7048",
   "metadata": {},
   "outputs": [],
   "source": [
    "# Save the predictions to a CSV file\n",
    "Submission_labels = np.argmax(Y_pred, axis=1)\n",
    "Digitizer_Submission = pd.DataFrame({'ImageId': range(1, len(Submission_labels)+1),\n",
    "                           'Label': Submission_labels})\n",
    "Digitizer_Submission.to_csv('.digitizer_predictions_Softmax_Epoch_40_Split_20.csv', index=False)"
   ]
  },
  {
   "cell_type": "markdown",
   "id": "73b69481",
   "metadata": {},
   "source": [
    "# Conclusions from Tests:\n",
    "\n",
    "## How this project differed from the Cancer project\n",
    "\n",
    "### 1) carrying over model from Kaggle cancer worked well, but still needed minor adjustments to work with this project. The major difference between the 2 being one that the Kaggle one was a Binary and this being Categorical.\n",
    "\n",
    "### 2) Image generators are quite a bit different. I would say that the one used a simpler method to vary the resulting image and might help with being able to predict the test images a little easier. \n",
    "\n",
    "### 3) Setting and varying the validation split matters in both cases, but for the this project raising it did not improve the submission score. The original tutorial was using 0.10. Typically I would increase this to around 0.30 to get larger set of validation data for confirming results on the train set, but this resulted in slightly worse performance a my score dropped from 0.98707 to 0.98271. I know there is typically a break point with respect to how high your should go with that data split but in this case more was definitely not better.\n",
    "\n",
    "### 4 ) Activation functions on the Final Layer: I tried relu, sigmoid, softmax for this project and much like the tutorial the softmax performs the best. I compared over different epoch counts, validation splits and batch sizes. with the Softmax perfoming best followed by sigmoid \n",
    "\n",
    "### 5) Batch Sizes: This parameter was varied from an original setting of 512 to 1024, 256, 128. I found 128 to be really consistent when running tests an eventually stuck with it for remainder of my submissions. Getting this right can make a big difference in your results and for graphing output.\n",
    "\n",
    "### 6) Epoch Counts: On the cancer kaggle project the Epoch count was quite low (3-5) before overfitting. This project that epoch count was much higher. The graphing showing how well it fitted. This one would probably benefit from an addition of an early stopping implementation to help achieve a better score rather than manually inputing a new value each time you wanted to test a change to the model\n",
    "\n"
   ]
  },
  {
   "cell_type": "markdown",
   "id": "a06ce604",
   "metadata": {},
   "source": [
    "# Overall this second run at a CNN model definitely help with my understanding and ability implement these machine learning methods in Python, but still would need more training and practice to get these right on a consistent basis."
   ]
  },
  {
   "cell_type": "code",
   "execution_count": null,
   "id": "b7f4213d",
   "metadata": {},
   "outputs": [],
   "source": []
  }
 ],
 "metadata": {
  "kernelspec": {
   "display_name": "Python 3 (ipykernel)",
   "language": "python",
   "name": "python3"
  },
  "language_info": {
   "codemirror_mode": {
    "name": "ipython",
    "version": 3
   },
   "file_extension": ".py",
   "mimetype": "text/x-python",
   "name": "python",
   "nbconvert_exporter": "python",
   "pygments_lexer": "ipython3",
   "version": "3.10.6"
  }
 },
 "nbformat": 4,
 "nbformat_minor": 5
}
