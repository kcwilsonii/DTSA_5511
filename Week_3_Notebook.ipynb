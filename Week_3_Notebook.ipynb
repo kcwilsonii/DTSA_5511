{
 "cells": [
  {
   "cell_type": "code",
   "execution_count": 1,
   "id": "039898bb",
   "metadata": {},
   "outputs": [
    {
     "name": "stdout",
     "output_type": "stream",
     "text": [
      "2.12.0\n",
      "0.31.0\n"
     ]
    }
   ],
   "source": [
    "import numpy as np\n",
    "import pandas as pd\n",
    "import seaborn as sns\n",
    "\n",
    "import matplotlib.pyplot as plt\n",
    "import keras,os\n",
    "from keras.models import Sequential\n",
    "from keras.layers import Dense, Conv2D, MaxPool2D , Flatten, BatchNormalization, Activation\n",
    "from keras.preprocessing.image import ImageDataGenerator\n",
    "import numpy as np\n",
    "from keras.optimizers import SGD\n",
    "from keras.optimizers import Adam\n",
    "\n",
    "import tensorflow as tf\n",
    "import tensorflow_io as tfio\n",
    "import tensorflow_datasets as tfds\n",
    "import matplotlib.pyplot as plt\n",
    "import pandas as pd\n",
    "import pathlib\n",
    "import os\n",
    "from PIL import Image\n",
    "import csv\n",
    "print(tf.__version__)\n",
    "print(tfio.__version__)\n",
    "\n",
    "plt.rcParams['figure.figsize'] = (16, 10)\n",
    "plt.rc('font', size=15)"
   ]
  },
  {
   "cell_type": "markdown",
   "id": "671b1182",
   "metadata": {},
   "source": [
    "### Set paths for different data sets\n",
    "\n",
    "### You will notice that the paths reference File locations where the files are stored as JPGs. I originally started trying to do this using \"tf.keras.utils.image_dataset_from_directory\" which cannot handle decoding of TIFs and is not well suited for  unsupervised learning projects as you need to have one class for this to work. \n",
    "\n",
    "### In this case for the Cancer data we have  2 classes for our data. I opted to leave my converted image files in jpg format for better compatability down the road."
   ]
  },
  {
   "cell_type": "code",
   "execution_count": 44,
   "id": "9302fb2e",
   "metadata": {},
   "outputs": [],
   "source": [
    "#print(pathlib.Path().absolute())\n",
    "#print (os.getcwd())\n",
    "path1 = os.getcwd()\n",
    "\n",
    "#File_type = '*.tif'\n",
    "#Train_path = path1 + '\\\\Week_3_kaggle\\\\train\\\\'\n",
    "#Test_path = path1 + '\\\\Week_3_kaggle\\\\train\\\\' \n",
    "\n",
    "File_type = '*.jpg'\n",
    "Labels_path = path1 + '\\\\Week_3_kaggle\\\\'\n",
    "Train_path = path1 + '\\\\Week_3_kaggle\\\\Train_jpg\\\\'\n",
    "Test_path = path1 + '\\\\Week_3_kaggle\\\\Test_jpg\\\\'\n",
    "\n"
   ]
  },
  {
   "cell_type": "code",
   "execution_count": 3,
   "id": "1f5c7090",
   "metadata": {},
   "outputs": [
    {
     "name": "stdout",
     "output_type": "stream",
     "text": [
      "                                             id label\n",
      "0  f38a6374c348f90b587e046aac6079959adf3835.jpg     0\n",
      "1  c18f2d887b7ae4f6742ee445113fa1aef383ed77.jpg     1\n",
      "2  755db6279dae599ebb4d39a9123cce439965282d.jpg     0\n",
      "3  bc3f0c64fb968ff4a8bd33af6971ecae77c75e08.jpg     0\n",
      "4  068aba587a4950175d04c680d38943fd488d6a9d.jpg     0\n",
      "5  acfe80838488fae3c89bd21ade75be5c34e66be7.jpg     0\n",
      "6  a24ce148f6ffa7ef8eefb4efb12ebffe8dd700da.jpg     1\n",
      "7  7f6ccae485af121e0b6ee733022e226ee6b0c65f.jpg     1\n",
      "8  559e55a64c9ba828f700e948f6886f4cea919261.jpg     0\n",
      "9  8eaaa7a400aa79d36c2440a4aa101cc14256cda4.jpg     0\n"
     ]
    }
   ],
   "source": [
    "Labels_File = Labels_path + \"train_labels.csv\"\n",
    "Train_Labels = pd.read_csv(Labels_File)\n",
    "Train_Labels[\"id\"]= Train_Labels[\"id\"] + \".jpg\"\n",
    "Train_Labels['label'] = Train_Labels['label'].astype(str)\n",
    "result = Train_Labels.head(10)\n",
    "        \n",
    "print(result)"
   ]
  },
  {
   "cell_type": "markdown",
   "id": "13e1805c",
   "metadata": {},
   "source": [
    "## Import Training data labels for use in our data modeling and data validation\n",
    "### I found the percentage of cells noted with cancer is fairly high at 40% which gives us a good base to work from and validate our data against it. I think you could do this with less .. maybe around 30%\n"
   ]
  },
  {
   "cell_type": "code",
   "execution_count": 62,
   "id": "d89840ca",
   "metadata": {},
   "outputs": [
    {
     "name": "stdout",
     "output_type": "stream",
     "text": [
      "Percent No Cancer:  59.50 %\n",
      "Percent Yes Cancer:  40.50 %\n"
     ]
    },
    {
     "data": {
      "image/png": "[encoded data removed]",
      "text/plain": [
       "<Figure size 432x288 with 1 Axes>"
      ]
     },
     "metadata": {
      "needs_background": "light"
     },
     "output_type": "display_data"
    }
   ],
   "source": [
    "Total_Rows = len(Train_Labels)\n",
    "No_Cancer_Count = len(Train_Labels[Train_Labels['label']==\"0\"].value_counts())\n",
    "Yes_Cancer_Count = len(Train_Labels[Train_Labels['label']==\"1\"].value_counts())\n",
    "\n",
    "Percent_No_Cancer = (No_Cancer_Count/Total_Rows) * 100\n",
    "Percent_Yes_Cancer = (Yes_Cancer_Count/Total_Rows) * 100\n",
    "print(\"Percent No Cancer: \",'%.2f' % Percent_No_Cancer,\"%\")\n",
    "print(\"Percent Yes Cancer: \",'%.2f' % Percent_Yes_Cancer, \"%\")\n",
    "\n",
    "Train_Labels['label'].value_counts().plot(kind='bar')\n",
    "\n",
    "plt.show()"
   ]
  },
  {
   "cell_type": "markdown",
   "id": "044e9d8b",
   "metadata": {},
   "source": [
    "## Setting up the model\n",
    "\n",
    "### I am new to trying to design a neural network with CNN and found several different methods online with which to implement this with one technique of \"transfer learning\" to help achieve better results showing up in several articles, but decided to keep this as simple as possible least I make a mistake in applying something I don't fully understand and has not been reviewed in this class.\n",
    "\n",
    "### I found out quite quickly that several combinations with respect to Batch size  and Image shape size affect the accuracy and loss results, as well as the total run time to complete building the Model. I eventually settled in on a batch size of 512 and shape input of 32x32. This combination seemed to give the best balance from a speed and result perspective with my basic layer configration.\n",
    "\n",
    "### I did run tests using the sigmoid function only but did not find that it improved the accuracy much and ended up sticking with relu for my intial layers and applying sigmoid on the final layer which performed well with a binary class like this.\n",
    "\n"
   ]
  },
  {
   "cell_type": "code",
   "execution_count": 94,
   "id": "4e23e08b",
   "metadata": {},
   "outputs": [
    {
     "name": "stdout",
     "output_type": "stream",
     "text": [
      "Model: \"sequential_19\"\n",
      "_________________________________________________________________\n",
      " Layer (type)                Output Shape              Param #   \n",
      "=================================================================\n",
      " conv2d_52 (Conv2D)          (512, 30, 30, 64)         1792      \n",
      "                                                                 \n",
      " max_pooling2d_52 (MaxPoolin  (512, 15, 15, 64)        0         \n",
      " g2D)                                                            \n",
      "                                                                 \n",
      " conv2d_53 (Conv2D)          (512, 13, 13, 16)         9232      \n",
      "                                                                 \n",
      " max_pooling2d_53 (MaxPoolin  (512, 6, 6, 16)          0         \n",
      " g2D)                                                            \n",
      "                                                                 \n",
      " conv2d_54 (Conv2D)          (512, 4, 4, 32)           4640      \n",
      "                                                                 \n",
      " max_pooling2d_54 (MaxPoolin  (512, 2, 2, 32)          0         \n",
      " g2D)                                                            \n",
      "                                                                 \n",
      " flatten_19 (Flatten)        (512, 128)                0         \n",
      "                                                                 \n",
      " dense_19 (Dense)            (512, 1)                  129       \n",
      "                                                                 \n",
      "=================================================================\n",
      "Total params: 15,793\n",
      "Trainable params: 15,793\n",
      "Non-trainable params: 0\n",
      "_________________________________________________________________\n"
     ]
    }
   ],
   "source": [
    "CNN_Model1 = Sequential()\n",
    "\n",
    "fig_size = 32\n",
    "activation_value1 = 'relu'\n",
    "activation_value2 = 'sigmoid'\n",
    "activation_value3 = 'softmax'\n",
    "\n",
    "CNN_Model1.add(Conv2D(filters=64, kernel_size=(3,3), activation=activation_value1))\n",
    "CNN_Model1.add(MaxPool2D(pool_size=(2,2)))\n",
    "\n",
    "CNN_Model1.add(Conv2D(filters=16, kernel_size=(3,3), activation=activation_value1))\n",
    "CNN_Model1.add(MaxPool2D(pool_size=(2,2)))\n",
    "\n",
    "CNN_Model1.add(Conv2D(filters=32, kernel_size=(3,3), activation=activation_value1))\n",
    "CNN_Model1.add(MaxPool2D(pool_size=(2,2)))\n",
    "\n",
    "CNN_Model1.add(Flatten())\n",
    "CNN_Model1.add(Dense(units=1, activation=activation_value2))\n",
    "\n",
    "batch_size = 512\n",
    "CNN_Model1.build(input_shape=(batch_size, fig_size, fig_size, 3))\n",
    "CNN_Model1.summary()"
   ]
  },
  {
   "cell_type": "markdown",
   "id": "3e8a415c",
   "metadata": {},
   "source": [
    "## Implementing the training and validation data setup\n",
    "\n",
    "### Important parameters here are shuffle, class_mode, batch_size and target_size:                                                      Most of these are pretty standard from a parameter perspective, but I did end up adding the shuffle parameter after running multiple test where I thought I should have been getting different results but they seemed to stagnate somewhat with respect to the range for the accuracy and loss. \n",
    "\n",
    "### Adding this helped alleviate this problem where the basic idea is to shuffle the data being input to avoid any innate bias in the ordering of the data.\n",
    "\n",
    "### One other change I made was in shifting  the validation split to from 0.20 to 0.30, thus allowing for more data for validation purposes"
   ]
  },
  {
   "cell_type": "code",
   "execution_count": 95,
   "id": "779ec1dd",
   "metadata": {},
   "outputs": [
    {
     "name": "stdout",
     "output_type": "stream",
     "text": [
      "Found 154018 validated image filenames belonging to 2 classes.\n",
      "Found 66007 validated image filenames belonging to 2 classes.\n"
     ]
    }
   ],
   "source": [
    "generator = ImageDataGenerator(rescale=1./255, validation_split=0.30)\n",
    "\n",
    "data_train = generator.flow_from_dataframe(\n",
    "    dataframe = Train_Labels,\n",
    "    shuffle=True,\n",
    "    x_col='id', # filenames\n",
    "    y_col='label', # labels\n",
    "    directory=Train_path,\n",
    "    subset='training',\n",
    "    class_mode='binary',\n",
    "    batch_size=batch_size,\n",
    "    target_size=(fig_size, fig_size))\n",
    "\n",
    "data_validate=generator.flow_from_dataframe(\n",
    "    dataframe=Train_Labels,\n",
    "    shuffle=True,\n",
    "    x_col='id', # filenames\n",
    "    y_col='label', # labels\n",
    "    directory=Train_path,\n",
    "    subset=\"validation\",\n",
    "    class_mode='binary',\n",
    "    batch_size=batch_size,\n",
    "    target_size=(fig_size, fig_size))"
   ]
  },
  {
   "cell_type": "markdown",
   "id": "e5e77da6",
   "metadata": {},
   "source": [
    "## Running and Building the model history dataset\n",
    "\n",
    "### One of the intial tests I did here was to compare optimizing methods to see how well the accuracy and loss values would compare with different optimizers. We had gone over SGD but it did not fit well with this model and performance below par. Most common with this type of dataset was the use of an Adam optimizer and I stuck with that for the remainder of my tests.\n",
    "\n",
    "### A last minute changes I made was to the Loss parameter and included the from_logits clause and set it equal to true. This is needed addition when using  sigmoid function on the last layer of your model.\n",
    "\n",
    "### Epochs: I found this pretty effective at 3 and 5 with testing my results and it  allowed me to make a determination with respect to any changes I made fairly quickly. \n",
    "\n",
    "### After running those quicker tests, I set the epoch counter higher to test and see if more would be better or not and check for overfitting with the model. I start with 15 Epochs, down to 10 and the 5 as the final run."
   ]
  },
  {
   "cell_type": "code",
   "execution_count": 96,
   "id": "042c5735",
   "metadata": {},
   "outputs": [
    {
     "name": "stdout",
     "output_type": "stream",
     "text": [
      "Epoch 1/15\n"
     ]
    },
    {
     "name": "stderr",
     "output_type": "stream",
     "text": [
      "C:\\Users\\Rivendell\\AppData\\Local\\Programs\\Python\\Python310\\lib\\site-packages\\keras\\backend.py:5703: UserWarning: \"`binary_crossentropy` received `from_logits=True`, but the `output` argument was produced by a Sigmoid activation and thus does not represent logits. Was this intended?\n",
      "  output, from_logits = _get_logits(\n"
     ]
    },
    {
     "name": "stdout",
     "output_type": "stream",
     "text": [
      "301/301 [==============================] - 177s 587ms/step - loss: 0.5019 - accuracy: 0.7592 - val_loss: 0.4656 - val_accuracy: 0.7884\n",
      "Epoch 2/15\n",
      "301/301 [==============================] - 173s 575ms/step - loss: 0.4658 - accuracy: 0.7854 - val_loss: 0.4509 - val_accuracy: 0.7937\n",
      "Epoch 3/15\n",
      "301/301 [==============================] - 173s 576ms/step - loss: 0.4509 - accuracy: 0.7937 - val_loss: 0.4376 - val_accuracy: 0.8020\n",
      "Epoch 4/15\n",
      "301/301 [==============================] - 172s 571ms/step - loss: 0.4358 - accuracy: 0.8026 - val_loss: 0.4242 - val_accuracy: 0.8080\n",
      "Epoch 5/15\n",
      "301/301 [==============================] - 175s 580ms/step - loss: 0.4233 - accuracy: 0.8109 - val_loss: 0.4063 - val_accuracy: 0.8182\n",
      "Epoch 6/15\n",
      "301/301 [==============================] - 171s 570ms/step - loss: 0.4061 - accuracy: 0.8207 - val_loss: 0.3957 - val_accuracy: 0.8264\n",
      "Epoch 7/15\n",
      "301/301 [==============================] - 173s 574ms/step - loss: 0.4023 - accuracy: 0.8218 - val_loss: 0.3864 - val_accuracy: 0.8299\n",
      "Epoch 8/15\n",
      "301/301 [==============================] - 174s 578ms/step - loss: 0.3905 - accuracy: 0.8282 - val_loss: 0.3832 - val_accuracy: 0.8317\n",
      "Epoch 9/15\n",
      "301/301 [==============================] - 174s 577ms/step - loss: 0.3908 - accuracy: 0.8270 - val_loss: 0.3836 - val_accuracy: 0.8317\n",
      "Epoch 10/15\n",
      "301/301 [==============================] - 170s 564ms/step - loss: 0.3828 - accuracy: 0.8305 - val_loss: 0.3819 - val_accuracy: 0.8317\n",
      "Epoch 11/15\n",
      "301/301 [==============================] - 171s 567ms/step - loss: 0.3801 - accuracy: 0.8322 - val_loss: 0.3846 - val_accuracy: 0.8266\n",
      "Epoch 12/15\n",
      "301/301 [==============================] - 175s 583ms/step - loss: 0.3769 - accuracy: 0.8339 - val_loss: 0.3988 - val_accuracy: 0.8172\n",
      "Epoch 13/15\n",
      "301/301 [==============================] - 173s 575ms/step - loss: 0.3739 - accuracy: 0.8350 - val_loss: 0.3895 - val_accuracy: 0.8275\n",
      "Epoch 14/15\n",
      "301/301 [==============================] - 169s 562ms/step - loss: 0.3719 - accuracy: 0.8360 - val_loss: 0.3755 - val_accuracy: 0.8323\n",
      "Epoch 15/15\n",
      "301/301 [==============================] - 171s 567ms/step - loss: 0.3670 - accuracy: 0.8378 - val_loss: 0.3764 - val_accuracy: 0.8311\n"
     ]
    }
   ],
   "source": [
    "\n",
    "#Optimizer1 = SGD(name= \"SGD\", learning_rate = 0.0001, nesterov = False, momentum = 0.0)\n",
    "Optimizer1 = Adam(learning_rate=0.001)\n",
    "\n",
    "epoch_count = 15\n",
    "CNN_Model1.compile(optimizer=Optimizer1, loss = tf.keras.losses.BinaryCrossentropy(from_logits=True), metrics = ['accuracy'])\n",
    "#CNN_Model1.compile(optimizer=Optimizer1, loss='binary_crossentropy', metrics=['accuracy'])\n",
    "CNN_Final = CNN_Model1.fit(data_train, validation_data=data_validate, epochs=epoch_count)"
   ]
  },
  {
   "cell_type": "markdown",
   "id": "f558b001",
   "metadata": {},
   "source": [
    "## Overfitting for Loss and Accuracy charts as they eventually change positions on the charts\n",
    "\n",
    "### Plot Train and Validation Loss Results"
   ]
  },
  {
   "cell_type": "code",
   "execution_count": 97,
   "id": "f6897d34",
   "metadata": {},
   "outputs": [
    {
     "data": {
      "image/png": "[encoded data removed]",
      "text/plain": [
       "<Figure size 432x288 with 1 Axes>"
      ]
     },
     "metadata": {
      "needs_background": "light"
     },
     "output_type": "display_data"
    },
    {
     "data": {
      "text/plain": [
       "<Figure size 432x288 with 0 Axes>"
      ]
     },
     "metadata": {},
     "output_type": "display_data"
    }
   ],
   "source": [
    "plt.plot(CNN_Final.history['loss'], label='train loss')\n",
    "plt.plot(CNN_Final.history['val_loss'], label='validate loss')\n",
    "plt.legend()\n",
    "plt.show()\n",
    "plt.savefig('Loss_Comparison')"
   ]
  },
  {
   "cell_type": "markdown",
   "id": "0363be8b",
   "metadata": {},
   "source": [
    "### Plot Train and Validation Accuracy Results"
   ]
  },
  {
   "cell_type": "code",
   "execution_count": 98,
   "id": "d990de7e",
   "metadata": {},
   "outputs": [
    {
     "data": {
      "image/png": "[encoded data removed]",
      "text/plain": [
       "<Figure size 432x288 with 1 Axes>"
      ]
     },
     "metadata": {
      "needs_background": "light"
     },
     "output_type": "display_data"
    },
    {
     "data": {
      "text/plain": [
       "<Figure size 432x288 with 0 Axes>"
      ]
     },
     "metadata": {},
     "output_type": "display_data"
    }
   ],
   "source": [
    "plt.plot(CNN_Final.history['accuracy'], label='train accuracy')\n",
    "plt.plot(CNN_Final.history['val_accuracy'], label='validate accuracy')\n",
    "plt.legend()\n",
    "plt.show()\n",
    "plt.savefig('Accuracy_Comparison')"
   ]
  },
  {
   "cell_type": "markdown",
   "id": "af00a73b",
   "metadata": {},
   "source": [
    "## Second Model with 10 Epochs based on previous charting cross point around 9-10"
   ]
  },
  {
   "cell_type": "code",
   "execution_count": 109,
   "id": "db1624b4",
   "metadata": {},
   "outputs": [
    {
     "name": "stdout",
     "output_type": "stream",
     "text": [
      "Model: \"sequential_20\"\n",
      "_________________________________________________________________\n",
      " Layer (type)                Output Shape              Param #   \n",
      "=================================================================\n",
      " conv2d_55 (Conv2D)          (512, 30, 30, 64)         1792      \n",
      "                                                                 \n",
      " max_pooling2d_55 (MaxPoolin  (512, 15, 15, 64)        0         \n",
      " g2D)                                                            \n",
      "                                                                 \n",
      " conv2d_56 (Conv2D)          (512, 13, 13, 16)         9232      \n",
      "                                                                 \n",
      " max_pooling2d_56 (MaxPoolin  (512, 6, 6, 16)          0         \n",
      " g2D)                                                            \n",
      "                                                                 \n",
      " conv2d_57 (Conv2D)          (512, 4, 4, 32)           4640      \n",
      "                                                                 \n",
      " max_pooling2d_57 (MaxPoolin  (512, 2, 2, 32)          0         \n",
      " g2D)                                                            \n",
      "                                                                 \n",
      " flatten_20 (Flatten)        (512, 128)                0         \n",
      "                                                                 \n",
      " dense_20 (Dense)            (512, 1)                  129       \n",
      "                                                                 \n",
      "=================================================================\n",
      "Total params: 15,793\n",
      "Trainable params: 15,793\n",
      "Non-trainable params: 0\n",
      "_________________________________________________________________\n"
     ]
    }
   ],
   "source": [
    "CNN_Model2 = Sequential()\n",
    "\n",
    "fig_size = 32\n",
    "activation_value1 = 'relu'\n",
    "activation_value2 = 'sigmoid'\n",
    "activation_value3 = 'softmax'\n",
    "\n",
    "CNN_Model2.add(Conv2D(filters=64, kernel_size=(3,3), activation=activation_value1))\n",
    "CNN_Model2.add(MaxPool2D(pool_size=(2,2)))\n",
    "\n",
    "CNN_Model2.add(Conv2D(filters=16, kernel_size=(3,3), activation=activation_value1))\n",
    "CNN_Model2.add(MaxPool2D(pool_size=(2,2)))\n",
    "\n",
    "CNN_Model2.add(Conv2D(filters=32, kernel_size=(3,3), activation=activation_value1))\n",
    "CNN_Model2.add(MaxPool2D(pool_size=(2,2)))\n",
    "\n",
    "CNN_Model2.add(Flatten())\n",
    "CNN_Model2.add(Dense(units=1, activation=activation_value2))\n",
    "\n",
    "batch_size = 512\n",
    "CNN_Model2.build(input_shape=(batch_size, fig_size, fig_size, 3))\n",
    "CNN_Model2.summary()"
   ]
  },
  {
   "cell_type": "code",
   "execution_count": 110,
   "id": "a3959081",
   "metadata": {},
   "outputs": [
    {
     "name": "stdout",
     "output_type": "stream",
     "text": [
      "Epoch 1/10\n"
     ]
    },
    {
     "name": "stderr",
     "output_type": "stream",
     "text": [
      "C:\\Users\\Rivendell\\AppData\\Local\\Programs\\Python\\Python310\\lib\\site-packages\\keras\\backend.py:5703: UserWarning: \"`binary_crossentropy` received `from_logits=True`, but the `output` argument was produced by a Sigmoid activation and thus does not represent logits. Was this intended?\n",
      "  output, from_logits = _get_logits(\n"
     ]
    },
    {
     "name": "stdout",
     "output_type": "stream",
     "text": [
      "301/301 [==============================] - 173s 574ms/step - loss: 0.5046 - accuracy: 0.7537 - val_loss: 0.4748 - val_accuracy: 0.7782\n",
      "Epoch 2/10\n",
      "301/301 [==============================] - 169s 562ms/step - loss: 0.4614 - accuracy: 0.7886 - val_loss: 0.4682 - val_accuracy: 0.7806\n",
      "Epoch 3/10\n",
      "301/301 [==============================] - 169s 563ms/step - loss: 0.4456 - accuracy: 0.7974 - val_loss: 0.4319 - val_accuracy: 0.8050\n",
      "Epoch 4/10\n",
      "301/301 [==============================] - 170s 566ms/step - loss: 0.4351 - accuracy: 0.8027 - val_loss: 0.4193 - val_accuracy: 0.8154\n",
      "Epoch 5/10\n",
      "301/301 [==============================] - 171s 569ms/step - loss: 0.4205 - accuracy: 0.8128 - val_loss: 0.4111 - val_accuracy: 0.8196\n",
      "Epoch 6/10\n",
      "301/301 [==============================] - 170s 564ms/step - loss: 0.4133 - accuracy: 0.8163 - val_loss: 0.4100 - val_accuracy: 0.8186\n",
      "Epoch 7/10\n",
      "301/301 [==============================] - 168s 557ms/step - loss: 0.4057 - accuracy: 0.8209 - val_loss: 0.4163 - val_accuracy: 0.8154\n",
      "Epoch 8/10\n",
      "301/301 [==============================] - 170s 564ms/step - loss: 0.4018 - accuracy: 0.8234 - val_loss: 0.4029 - val_accuracy: 0.8235\n",
      "Epoch 9/10\n",
      "301/301 [==============================] - 172s 573ms/step - loss: 0.3989 - accuracy: 0.8250 - val_loss: 0.4159 - val_accuracy: 0.8154\n",
      "Epoch 10/10\n",
      "301/301 [==============================] - 177s 588ms/step - loss: 0.3955 - accuracy: 0.8280 - val_loss: 0.3850 - val_accuracy: 0.8322\n"
     ]
    }
   ],
   "source": [
    "\n",
    "#Optimizer1 = SGD(name= \"SGD\", learning_rate = 0.0001, nesterov = False, momentum = 0.0)\n",
    "Optimizer1 = Adam(learning_rate=0.001)\n",
    "\n",
    "epoch_count = 10\n",
    "CNN_Model2.compile(optimizer=Optimizer1, loss = tf.keras.losses.BinaryCrossentropy(from_logits=True), metrics = ['accuracy'])\n",
    "CNN_Final2 = CNN_Model2.fit(data_train, validation_data=data_validate, epochs=epoch_count)"
   ]
  },
  {
   "cell_type": "code",
   "execution_count": 111,
   "id": "acd5cfb8",
   "metadata": {},
   "outputs": [
    {
     "data": {
      "image/png": "[encoded data removed]",
      "text/plain": [
       "<Figure size 432x288 with 1 Axes>"
      ]
     },
     "metadata": {
      "needs_background": "light"
     },
     "output_type": "display_data"
    },
    {
     "data": {
      "text/plain": [
       "<Figure size 432x288 with 0 Axes>"
      ]
     },
     "metadata": {},
     "output_type": "display_data"
    }
   ],
   "source": [
    "plt.plot(CNN_Final2.history['loss'], label='train loss')\n",
    "plt.plot(CNN_Final2.history['val_loss'], label='validate loss')\n",
    "plt.legend()\n",
    "plt.show()\n",
    "plt.savefig('Loss_Comparison')"
   ]
  },
  {
   "cell_type": "code",
   "execution_count": 112,
   "id": "80e5f1c4",
   "metadata": {},
   "outputs": [
    {
     "data": {
      "image/png": "[encoded data removed]",
      "text/plain": [
       "<Figure size 432x288 with 1 Axes>"
      ]
     },
     "metadata": {
      "needs_background": "light"
     },
     "output_type": "display_data"
    },
    {
     "data": {
      "text/plain": [
       "<Figure size 432x288 with 0 Axes>"
      ]
     },
     "metadata": {},
     "output_type": "display_data"
    }
   ],
   "source": [
    "plt.plot(CNN_Final2.history['accuracy'], label='train accuracy')\n",
    "plt.plot(CNN_Final2.history['val_accuracy'], label='validate accuracy')\n",
    "plt.legend()\n",
    "plt.show()\n",
    "plt.savefig('Accuracy_Comparison')"
   ]
  },
  {
   "cell_type": "markdown",
   "id": "fceb55dc",
   "metadata": {},
   "source": [
    "## Third Model using only 5 Epochs. This seems to avoid overfitting at this epoch count"
   ]
  },
  {
   "cell_type": "code",
   "execution_count": 118,
   "id": "995d834b",
   "metadata": {},
   "outputs": [
    {
     "name": "stdout",
     "output_type": "stream",
     "text": [
      "Model: \"sequential_22\"\n",
      "_________________________________________________________________\n",
      " Layer (type)                Output Shape              Param #   \n",
      "=================================================================\n",
      " conv2d_61 (Conv2D)          (512, 30, 30, 64)         1792      \n",
      "                                                                 \n",
      " max_pooling2d_61 (MaxPoolin  (512, 15, 15, 64)        0         \n",
      " g2D)                                                            \n",
      "                                                                 \n",
      " conv2d_62 (Conv2D)          (512, 13, 13, 16)         9232      \n",
      "                                                                 \n",
      " max_pooling2d_62 (MaxPoolin  (512, 6, 6, 16)          0         \n",
      " g2D)                                                            \n",
      "                                                                 \n",
      " conv2d_63 (Conv2D)          (512, 4, 4, 32)           4640      \n",
      "                                                                 \n",
      " max_pooling2d_63 (MaxPoolin  (512, 2, 2, 32)          0         \n",
      " g2D)                                                            \n",
      "                                                                 \n",
      " flatten_22 (Flatten)        (512, 128)                0         \n",
      "                                                                 \n",
      " dense_22 (Dense)            (512, 1)                  129       \n",
      "                                                                 \n",
      "=================================================================\n",
      "Total params: 15,793\n",
      "Trainable params: 15,793\n",
      "Non-trainable params: 0\n",
      "_________________________________________________________________\n"
     ]
    }
   ],
   "source": [
    "CNN_Model3 = Sequential()\n",
    "\n",
    "fig_size = 32\n",
    "activation_value1 = 'relu'\n",
    "activation_value2 = 'sigmoid'\n",
    "activation_value3 = 'softmax'\n",
    "\n",
    "CNN_Model3.add(Conv2D(filters=64, kernel_size=(3,3), activation=activation_value1))\n",
    "CNN_Model3.add(MaxPool2D(pool_size=(2,2)))\n",
    "\n",
    "CNN_Model3.add(Conv2D(filters=16, kernel_size=(3,3), activation=activation_value1))\n",
    "CNN_Model3.add(MaxPool2D(pool_size=(2,2)))\n",
    "\n",
    "CNN_Model3.add(Conv2D(filters=32, kernel_size=(3,3), activation=activation_value1))\n",
    "CNN_Model3.add(MaxPool2D(pool_size=(2,2)))\n",
    "\n",
    "CNN_Model3.add(Flatten())\n",
    "CNN_Model3.add(Dense(units=1, activation=activation_value2))\n",
    "\n",
    "batch_size = 512\n",
    "CNN_Model3.build(input_shape=(batch_size, fig_size, fig_size, 3))\n",
    "CNN_Model3.summary()"
   ]
  },
  {
   "cell_type": "code",
   "execution_count": 119,
   "id": "14c9e5b0",
   "metadata": {},
   "outputs": [
    {
     "name": "stdout",
     "output_type": "stream",
     "text": [
      "Epoch 1/5\n",
      "301/301 [==============================] - 181s 600ms/step - loss: 0.5074 - accuracy: 0.7550 - val_loss: 0.4701 - val_accuracy: 0.7863\n",
      "Epoch 2/5\n",
      "301/301 [==============================] - 170s 566ms/step - loss: 0.4690 - accuracy: 0.7852 - val_loss: 0.4563 - val_accuracy: 0.7913\n",
      "Epoch 3/5\n",
      "301/301 [==============================] - 171s 569ms/step - loss: 0.4531 - accuracy: 0.7936 - val_loss: 0.4426 - val_accuracy: 0.7997\n",
      "Epoch 4/5\n",
      "301/301 [==============================] - 182s 603ms/step - loss: 0.4484 - accuracy: 0.7951 - val_loss: 0.4478 - val_accuracy: 0.7987\n",
      "Epoch 5/5\n",
      "301/301 [==============================] - 170s 565ms/step - loss: 0.4346 - accuracy: 0.8028 - val_loss: 0.4279 - val_accuracy: 0.8097\n"
     ]
    }
   ],
   "source": [
    "\n",
    "Optimizer1 = Adam(learning_rate=0.001)\n",
    "\n",
    "epoch_count = 5\n",
    "CNN_Model3.compile(optimizer=Optimizer1, loss = tf.keras.losses.BinaryCrossentropy(from_logits=False), metrics = ['accuracy'])\n",
    "CNN_Final3 = CNN_Model3.fit(data_train, validation_data=data_validate, epochs=epoch_count)"
   ]
  },
  {
   "cell_type": "code",
   "execution_count": 120,
   "id": "dcd7cec6",
   "metadata": {},
   "outputs": [
    {
     "data": {
      "image/png": "[encoded data removed]",
      "text/plain": [
       "<Figure size 432x288 with 1 Axes>"
      ]
     },
     "metadata": {
      "needs_background": "light"
     },
     "output_type": "display_data"
    },
    {
     "data": {
      "text/plain": [
       "<Figure size 432x288 with 0 Axes>"
      ]
     },
     "metadata": {},
     "output_type": "display_data"
    }
   ],
   "source": [
    "plt.plot(CNN_Final3.history['loss'], label='train loss')\n",
    "plt.plot(CNN_Final3.history['val_loss'], label='validate loss')\n",
    "plt.legend()\n",
    "plt.show()\n",
    "plt.savefig('Loss_Comparison')"
   ]
  },
  {
   "cell_type": "code",
   "execution_count": 121,
   "id": "3f11f870",
   "metadata": {},
   "outputs": [
    {
     "data": {
      "image/png": "[encoded data removed]",
      "text/plain": [
       "<Figure size 432x288 with 1 Axes>"
      ]
     },
     "metadata": {
      "needs_background": "light"
     },
     "output_type": "display_data"
    },
    {
     "data": {
      "text/plain": [
       "<Figure size 432x288 with 0 Axes>"
      ]
     },
     "metadata": {},
     "output_type": "display_data"
    }
   ],
   "source": [
    "plt.plot(CNN_Final3.history['accuracy'], label='train accuracy')\n",
    "plt.plot(CNN_Final3.history['val_accuracy'], label='validate accuracy')\n",
    "plt.legend()\n",
    "plt.show()\n",
    "plt.savefig('Accuracy_Comparison')"
   ]
  },
  {
   "cell_type": "markdown",
   "id": "e3bc65d1",
   "metadata": {},
   "source": [
    "## Run Predictions against Test images"
   ]
  },
  {
   "cell_type": "code",
   "execution_count": 122,
   "id": "ef614a69",
   "metadata": {},
   "outputs": [
    {
     "name": "stdout",
     "output_type": "stream",
     "text": [
      "Found 57458 validated image filenames.\n"
     ]
    }
   ],
   "source": [
    "Test_Image_Names = pd.DataFrame({'id':os.listdir(Test_path)})\n",
    "\n",
    "generator_test = ImageDataGenerator(rescale=1./255)\n",
    "\n",
    "Test_Data = generator_test.flow_from_dataframe(\n",
    "    dataframe = Test_Image_Names,\n",
    "    x_col='id', # filenames\n",
    "    directory=Test_path,\n",
    "    class_mode=None,\n",
    "    batch_size=1,\n",
    "    target_size=(fig_size, fig_size),\n",
    "    shuffle=False)"
   ]
  },
  {
   "cell_type": "code",
   "execution_count": 123,
   "id": "f613d352",
   "metadata": {},
   "outputs": [
    {
     "name": "stdout",
     "output_type": "stream",
     "text": [
      "57458/57458 [==============================] - 121s 2ms/step\n"
     ]
    }
   ],
   "source": [
    "cnn_predict = CNN_Model2.predict(Test_Data, verbose=1)"
   ]
  },
  {
   "cell_type": "markdown",
   "id": "e5946f87",
   "metadata": {},
   "source": [
    "## Export Prediction results to file for Kaggle Submission\n",
    "\n",
    "### My final public score was 0.8991, which was pretty good for my basic approach to this neural net and not introducing and other methods such as transfer learning. This was done with only 5 epochs as more than that lead to overfitting"
   ]
  },
  {
   "cell_type": "code",
   "execution_count": 124,
   "id": "47ef7048",
   "metadata": {},
   "outputs": [
    {
     "name": "stdout",
     "output_type": "stream",
     "text": [
      "                                         id     label\n",
      "0  00006537328c33e284c973d7b39d340809f7271b  0.763957\n",
      "1  0000ec92553fda4ce39889f9226ace43cae3364e  0.769138\n",
      "2  00024a6dee61f12f7856b0fc6be20bc7a48ba3d2  0.389096\n",
      "3  000253dfaa0be9d0d100283b22284ab2f6b643f6  0.081081\n",
      "4  000270442cc15af719583a8172c87cd2bd9c7746  0.069021\n"
     ]
    }
   ],
   "source": [
    "\n",
    "CNN_Cancer_File = pd.DataFrame()\n",
    "CNN_Cancer_File['id'] = Test_Image_Names['id'].apply(lambda x: x.split('.')[0])\n",
    "CNN_Cancer_File['label'] = cnn_predict[:, 0]\n",
    "\n",
    "print(CNN_Cancer_File.head())\n",
    "\n",
    "CNN_Cancer_File['label'].value_counts()\n",
    "CNN_Cancer_File.to_csv('CNN_Cancer_File_5_Epochs.csv', index=False)"
   ]
  },
  {
   "cell_type": "code",
   "execution_count": null,
   "id": "ef0bb069",
   "metadata": {},
   "outputs": [],
   "source": []
  }
 ],
 "metadata": {
  "kernelspec": {
   "display_name": "Python 3 (ipykernel)",
   "language": "python",
   "name": "python3"
  },
  "language_info": {
   "codemirror_mode": {
    "name": "ipython",
    "version": 3
   },
   "file_extension": ".py",
   "mimetype": "text/x-python",
   "name": "python",
   "nbconvert_exporter": "python",
   "pygments_lexer": "ipython3",
   "version": "3.10.6"
  }
 },
 "nbformat": 4,
 "nbformat_minor": 5
}
