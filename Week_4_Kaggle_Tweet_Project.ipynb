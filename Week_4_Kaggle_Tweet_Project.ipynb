{
 "cells": [
  {
   "cell_type": "markdown",
   "id": "ae73f206-c7be-42f1-963d-754ba8cc7514",
   "metadata": {},
   "source": [
    "# Week4 Kaggle Project Disaster Tweets"
   ]
  },
  {
   "cell_type": "markdown",
   "id": "fb53450d",
   "metadata": {},
   "source": [
    "github link\n",
    "\n",
    "https://github.com/kcwilsonii/DTSA_5511"
   ]
  },
  {
   "cell_type": "code",
   "execution_count": 138,
   "id": "2aa71424-8ba7-46b2-8c94-fd4d117f39a4",
   "metadata": {},
   "outputs": [],
   "source": [
    "from PIL import Image\n",
    "import glob\n",
    "import numpy as np\n",
    "import pandas as pd\n",
    "import sklearn\n",
    "import matplotlib.pyplot as plt      \n",
    "from matplotlib.pyplot import figure\n",
    "from sklearn.svm import SVC                                \n",
    "from sklearn.model_selection import train_test_split\n",
    "\n",
    "import pathlib\n",
    "import os\n",
    "import string\n",
    "import warnings \n",
    "\n",
    "import re\n",
    "from nltk.corpus import stopwords\n",
    "from sklearn.feature_extraction.text import TfidfVectorizer\n",
    "from sklearn.decomposition import NMF\n",
    "import math\n",
    "from sklearn.metrics import accuracy_score, confusion_matrix\n",
    "import time\n",
    "from sklearn.cluster import KMeans\n",
    "import keras\n",
    "from tqdm import tqdm\n",
    "\n",
    "import nltk\n",
    "from nltk.tokenize import sent_tokenize, word_tokenize\n",
    "from tensorflow.keras.preprocessing.text import Tokenizer\n",
    "import tensorflow as tf\n",
    "from keras.models import Sequential\n",
    "from keras.layers import Bidirectional,Dense, Conv2D, MaxPool2D , Flatten, BatchNormalization, Activation, LSTM, CuDNNLSTM, Embedding, Dropout\n",
    "from keras.optimizers import Adam\n",
    "from tensorflow.keras.preprocessing.sequence import pad_sequences\n",
    "from keras.initializers import Constant"
   ]
  },
  {
   "cell_type": "markdown",
   "id": "16bee3a3",
   "metadata": {},
   "source": [
    "   ## Check path Settings"
   ]
  },
  {
   "cell_type": "code",
   "execution_count": 139,
   "id": "e0969161-34d3-47ad-b8d3-c08b878aaac8",
   "metadata": {},
   "outputs": [
    {
     "name": "stdout",
     "output_type": "stream",
     "text": [
      "C:\\Users\\Rivendell\\Documents\\Data_Science_masters\\Boulder_Colorado\\2023_Spring_Session_2\\DTSA 5511 Introduction to Deep Learning\\Week_4\n",
      "C:\\Users\\Rivendell\\Documents\\Data_Science_masters\\Boulder_Colorado\\2023_Spring_Session_2\\DTSA 5511 Introduction to Deep Learning\\Week_4\n"
     ]
    }
   ],
   "source": [
    "print(pathlib.Path().absolute())\n",
    "print (os.getcwd())\n"
   ]
  },
  {
   "cell_type": "markdown",
   "id": "2922de9b",
   "metadata": {},
   "source": [
    "## set color settings for use with print statements"
   ]
  },
  {
   "cell_type": "code",
   "execution_count": 140,
   "id": "6899fe53-e821-4a75-a9f9-41d96c93693d",
   "metadata": {},
   "outputs": [],
   "source": [
    "class color:\n",
    "    PURPLE = \"\\033[95m\"\n",
    "    CYAN = \"\\033[96m\"\n",
    "    DARKCYAN = \"\\033[36m\"\n",
    "    BLUE = \"\\033[94m\"\n",
    "    GREEN = \"\\033[92m\"\n",
    "    YELLOW = \"\\033[93m\"\n",
    "    RED = \"\\033[91m\"\n",
    "    BOLD = \"\\033[1m\"\n",
    "    UNDERLINE = \"\\033[4m\"\n",
    "    END = \"\\033[0m\""
   ]
  },
  {
   "cell_type": "markdown",
   "id": "54846051",
   "metadata": {},
   "source": [
    "## Get data for Disaster tweet Kaggle set"
   ]
  },
  {
   "cell_type": "code",
   "execution_count": 141,
   "id": "380c245f-0e7c-454d-b7a6-8a1c063b68fd",
   "metadata": {},
   "outputs": [
    {
     "name": "stdout",
     "output_type": "stream",
     "text": [
      "\u001b[4m\u001b[1m\u001b[91mDisaster Tweet Data\u001b[0m\n",
      "\\test.csv\n",
      "C:\\Users\\Rivendell\\Documents\\Data_Science_masters\\Boulder_Colorado\\2023_Spring_Session_2\\DTSA 5511 Introduction to Deep Learning\\Week_4\\test.csv\n",
      "   id keyword location                                               text\n",
      "0   0     NaN      NaN                 Just happened a terrible car crash\n",
      "1   2     NaN      NaN  Heard about #earthquake is different cities, s...\n",
      "2   3     NaN      NaN  there is a forest fire at spot pond, geese are...\n",
      "3   9     NaN      NaN           Apocalypse lighting. #Spokane #wildfires\n",
      "4  11     NaN      NaN      Typhoon Soudelor kills 28 in China and Taiwan\n",
      "\n",
      "\n",
      "\u001b[4m\u001b[1m\u001b[91mTweet Train Data\u001b[0m\n",
      "   id keyword location                                               text  \\\n",
      "0   1     NaN      NaN  Our Deeds are the Reason of this #earthquake M...   \n",
      "1   4     NaN      NaN             Forest fire near La Ronge Sask. Canada   \n",
      "2   5     NaN      NaN  All residents asked to 'shelter in place' are ...   \n",
      "3   6     NaN      NaN  13,000 people receive #wildfires evacuation or...   \n",
      "4   7     NaN      NaN  Just got sent this photo from Ruby #Alaska as ...   \n",
      "\n",
      "   target  \n",
      "0       1  \n",
      "1       1  \n",
      "2       1  \n",
      "3       1  \n",
      "4       1  \n",
      "\n",
      "\n",
      "\u001b[4m\u001b[1m\u001b[91mTweet Sample Solution Data\u001b[0m\n",
      "   id  target\n",
      "0   0       0\n",
      "1   2       0\n",
      "2   3       0\n",
      "3   9       0\n",
      "4  11       0\n"
     ]
    }
   ],
   "source": [
    "current_dir = (os.getcwd())\n",
    "\n",
    "\n",
    "print(color.UNDERLINE + color.BOLD + color.RED + \"Disaster Tweet Data\" + color.END)    \n",
    "File_name = None\n",
    "File_name = \"\\\\test.csv\"\n",
    "print(File_name)\n",
    "\n",
    "File_Path = current_dir + File_name\n",
    "print(File_Path)\n",
    "Tweet_Test_Data = pd.read_csv(File_Path)\n",
    "print(Tweet_Test_Data.head())\n",
    "\n",
    "\n",
    "print()\n",
    "print()\n",
    "print(color.UNDERLINE + color.BOLD + color.RED + \"Tweet Train Data\" + color.END)\n",
    "File_name = None\n",
    "File_name = \"\\\\train.csv\"\n",
    "File_Path = current_dir + File_name\n",
    "Tweet_Train_Data = pd.read_csv(File_Path)\n",
    "print(Tweet_Train_Data.head())\n",
    "\n",
    "print()\n",
    "print()\n",
    "print(color.UNDERLINE + color.BOLD + color.RED + \"Tweet Sample Solution Data\" + color.END)\n",
    "File_name = None\n",
    "File_name = \"\\\\sample_submission.csv\"\n",
    "File_Path = current_dir + File_name\n",
    "Tweet_Sample_Solution = pd.read_csv(File_Path)\n",
    "print(Tweet_Sample_Solution.head())\n",
    "\n",
    "\n"
   ]
  },
  {
   "cell_type": "markdown",
   "id": "0284c830",
   "metadata": {},
   "source": [
    "## Plot number of word per Training tweet target category\n"
   ]
  },
  {
   "cell_type": "code",
   "execution_count": 142,
   "id": "d6e8dd2e",
   "metadata": {},
   "outputs": [],
   "source": [
    "plt.rcParams[\"figure.figsize\"] = (10,5)"
   ]
  },
  {
   "cell_type": "code",
   "execution_count": 143,
   "id": "f8302534",
   "metadata": {},
   "outputs": [
    {
     "data": {
      "image/png": "[encoded data removed]",
      "text/plain": [
       "<Figure size 720x360 with 1 Axes>"
      ]
     },
     "metadata": {
      "needs_background": "light"
     },
     "output_type": "display_data"
    }
   ],
   "source": [
    "Tweet_Train_Data['Word_Count'] = Tweet_Train_Data[\"text\"].str.split().apply(len) # add a new column with word counts\n",
    "\n",
    "Train_grouped = Tweet_Train_Data.groupby(by='target')['Word_Count'].sum()\n",
    "Train_grouped.plot.bar(x='Category', y='Word_Count', width = 0.5)\n",
    "plt.xticks(rotation='horizontal')\n",
    "plt.show()\n"
   ]
  },
  {
   "cell_type": "markdown",
   "id": "64168ad5",
   "metadata": {},
   "source": [
    "## Plot count of Training Target Values"
   ]
  },
  {
   "cell_type": "code",
   "execution_count": 144,
   "id": "b7728401-077e-4aef-87b6-df2af494f6fd",
   "metadata": {},
   "outputs": [
    {
     "data": {
      "image/png": "[encoded data removed]",
      "text/plain": [
       "<Figure size 720x360 with 1 Axes>"
      ]
     },
     "metadata": {
      "needs_background": "light"
     },
     "output_type": "display_data"
    }
   ],
   "source": [
    "Tweet_Train_Data['target'].value_counts().plot.bar()\n",
    "plt.xticks(rotation='horizontal')\n",
    "plt.show()"
   ]
  },
  {
   "cell_type": "markdown",
   "id": "d0a2e228",
   "metadata": {},
   "source": [
    "## check sample solution file target value"
   ]
  },
  {
   "cell_type": "code",
   "execution_count": 9,
   "id": "d0447e75-3707-4235-8958-99ca272501f0",
   "metadata": {},
   "outputs": [
    {
     "name": "stdout",
     "output_type": "stream",
     "text": [
      "[0]\n"
     ]
    }
   ],
   "source": [
    "\n",
    "print(Tweet_Sample_Solution[\"target\"].unique())\n"
   ]
  },
  {
   "cell_type": "markdown",
   "id": "553acd58",
   "metadata": {},
   "source": [
    "## Consolidate all the text from train and test into one dataframe for overall use and check data split between sets"
   ]
  },
  {
   "cell_type": "code",
   "execution_count": 11,
   "id": "941cd874-250f-4568-9206-2fb99a45cb45",
   "metadata": {},
   "outputs": [],
   "source": [
    "All_Tweets = pd.concat([Tweet_Train_Data[\"text\"], Tweet_Test_Data[\"text\"]], axis=0)  "
   ]
  },
  {
   "cell_type": "code",
   "execution_count": 12,
   "id": "b8a4cf6e-c0df-43c6-8016-deabab8ffcf6",
   "metadata": {},
   "outputs": [
    {
     "name": "stdout",
     "output_type": "stream",
     "text": [
      "Train Percent:  70.00 %\n",
      "Test Percent:  30.00 %\n"
     ]
    },
    {
     "data": {
      "text/plain": [
       "0    Our Deeds are the Reason of this #earthquake M...\n",
       "1               Forest fire near La Ronge Sask. Canada\n",
       "2    All residents asked to 'shelter in place' are ...\n",
       "3    13,000 people receive #wildfires evacuation or...\n",
       "4    Just got sent this photo from Ruby #Alaska as ...\n",
       "Name: text, dtype: object"
      ]
     },
     "execution_count": 12,
     "metadata": {},
     "output_type": "execute_result"
    }
   ],
   "source": [
    "Train_length = len(Tweet_Train_Data[\"text\"])\n",
    "Test_length = len(Tweet_Test_Data[\"text\"])\n",
    "Total_Length = len(All_Tweets)\n",
    "Train_percent = (Train_length/Total_Length)*100\n",
    "Test_percent = (Test_length/Total_Length)*100\n",
    "print(\"Train Percent: \",'%.2f' % Train_percent,\"%\")\n",
    "print(\"Test Percent: \",'%.2f' % Test_percent,\"%\")\n",
    "All_Tweets.head()"
   ]
  },
  {
   "cell_type": "markdown",
   "id": "f327d787",
   "metadata": {},
   "source": [
    "## Function to remove unwanted text and stop words. \n",
    "## This will be used to reduce the tweets to a meaningful set of words which should help in predicting each tweet better"
   ]
  },
  {
   "cell_type": "code",
   "execution_count": 13,
   "id": "bc7961cb",
   "metadata": {},
   "outputs": [],
   "source": [
    "def Text_Removal(Text_Dataframe, Text_Column_Name):\n",
    "    \n",
    "    # Function to reduce text to a usable set of words for identifying topics\n",
    "    # and the article category\n",
    "    \n",
    "    Word_Data = Text_Dataframe.copy()\n",
    "    #remove unecessary punction and text that do not qualify as words\n",
    "    Word_Data[Text_Column_Name] = Word_Data[Text_Column_Name].apply(lambda row: re.sub(r'[^\\w\\s]+', '', row))\n",
    "    Word_Data[Text_Column_Name] = Word_Data[Text_Column_Name].apply(lambda row: re.sub(r'[0-9]+', '', row))\n",
    "    \n",
    "    #remove stopwords or words that are not unique  like... (the, and, or , that)\n",
    "    stop_words = stopwords.words('english')\n",
    "    Word_Data[Text_Column_Name] = Word_Data[Text_Column_Name].apply(lambda x: ' '.join([word for word in x.split() if word not in (stop_words)]))\n",
    "    \n",
    "    return Word_Data[Text_Column_Name]"
   ]
  },
  {
   "cell_type": "markdown",
   "id": "2b1888d8",
   "metadata": {},
   "source": [
    "## Remove unwanted text from Train Data and Test data with Text_Removal function"
   ]
  },
  {
   "cell_type": "code",
   "execution_count": 14,
   "id": "c350bf41",
   "metadata": {},
   "outputs": [],
   "source": [
    "warnings.simplefilter('ignore')\n",
    "\n",
    "\n",
    "Train_Cleaned_Text_Series = Text_Removal(Tweet_Train_Data,\"text\")\n",
    "Train_Cleaned_Text = pd.DataFrame({'id':Train_Cleaned_Text_Series.index, 'text':Train_Cleaned_Text_Series.values})\n",
    "\n",
    "Test_Cleaned_Text_Series = Text_Removal(Tweet_Test_Data,\"text\")\n",
    "Test_Cleaned_Text = pd.DataFrame({'id':Test_Cleaned_Text_Series.index, 'text':Test_Cleaned_Text_Series.values})\n",
    "\n",
    "# get target values matched back up to cleaned text\n",
    "Train_Cleaned_Text = Train_Cleaned_Text.drop(['id'], axis=1)\n",
    "Tweet_Train_Data2 = Tweet_Train_Data.copy()\n",
    "Tweet_Train_Data2 = Tweet_Train_Data2.drop(['id', 'keyword', 'location','text','Word_Count'], axis=1)\n",
    "\n",
    "Tweets_Train_Final = pd.concat([Train_Cleaned_Text, Tweet_Train_Data2],axis=1)\n",
    "\n",
    "#Tweets_Train_Final = pd.DataFrame({'id':Test_Cleaned_Text_Series.index, 'text':Test_Cleaned_Text_Series.values})\n",
    "\n"
   ]
  },
  {
   "cell_type": "markdown",
   "id": "bf488b39",
   "metadata": {},
   "source": [
    "## Prepare the data for use with RNN model"
   ]
  },
  {
   "cell_type": "code",
   "execution_count": 15,
   "id": "5934dbf2",
   "metadata": {},
   "outputs": [
    {
     "name": "stdout",
     "output_type": "stream",
     "text": [
      "                                                text  target\n",
      "0   Our Deeds Reason earthquake May ALLAH Forgive us       1\n",
      "1              Forest fire near La Ronge Sask Canada       1\n",
      "2  All residents asked shelter place notified off...       1\n",
      "3  people receive wildfires evacuation orders Cal...       1\n",
      "4  Just got sent photo Ruby Alaska smoke wildfire...       1\n",
      "<class 'pandas.core.frame.DataFrame'>\n",
      "RangeIndex: 7613 entries, 0 to 7612\n",
      "Data columns (total 2 columns):\n",
      " #   Column  Non-Null Count  Dtype \n",
      "---  ------  --------------  ----- \n",
      " 0   text    7613 non-null   object\n",
      " 1   target  7613 non-null   int64 \n",
      "dtypes: int64(1), object(1)\n",
      "memory usage: 119.1+ KB\n",
      "None\n",
      "Tweet Length :  31\n",
      "29320\n"
     ]
    }
   ],
   "source": [
    "print(Tweets_Train_Final.head())\n",
    "print(Tweets_Train_Final.info())\n",
    "\n",
    "Tweets_train = Tweets_Train_Final['text'].values\n",
    "Tweets_test = Test_Cleaned_Text['text'].values\n",
    "\n",
    "tokenizer = Tokenizer()\n",
    "\n",
    "tokenizer.fit_on_texts(All_Tweets)\n",
    "\n",
    "Tweet_Length = max(len(x.split()) for x in All_Tweets)\n",
    "print('Tweet Length : ', Tweet_Length)\n",
    "\n",
    "Train_Sequences = tokenizer.texts_to_sequences(Tweets_train)\n",
    "Train_padded = pad_sequences(Train_Sequences, maxlen=Tweet_Length)\n",
    "\n",
    "Test_Sequences = tokenizer.texts_to_sequences(Tweets_test)\n",
    "Test_padded = pad_sequences(Test_Sequences, maxlen=Tweet_Length)\n",
    "\n",
    "\n",
    "X_train,X_validate,Y_train,Y_validate = train_test_split(Train_padded, Tweets_Train_Final['target'].values, test_size = 0.3, random_state = 0)\n",
    "\n",
    "# This is used for Embedding layer afterwards\n",
    "Train_Word_Count = len(tokenizer.word_index) + 1\n",
    "print(Train_Word_Count)"
   ]
  },
  {
   "cell_type": "markdown",
   "id": "6a22e2b8",
   "metadata": {},
   "source": [
    "## Setup Model for learning\n",
    "### I tried multiple combinations of LSTM, Layers and Dropouts for the model setup with little variation between them with respect to the final Kaggle Submission. This seemed to over fit rather quickly causing issues with the validation accuracy over each epoch. I would probably have to look at some more specialized techniques for this type of data, some of which used embedded dictionary and glove files to help with the embedding.\n",
    "\n",
    "### The model below performed the best and kept learning over more than just 2 epochs. I simplified the LSTM as the others were overfitting too quickly and not improving the performance at all\n"
   ]
  },
  {
   "cell_type": "code",
   "execution_count": 131,
   "id": "047290f7",
   "metadata": {},
   "outputs": [
    {
     "name": "stdout",
     "output_type": "stream",
     "text": [
      "Model: \"sequential_38\"\n",
      "_________________________________________________________________\n",
      " Layer (type)                Output Shape              Param #   \n",
      "=================================================================\n",
      " embedding_37 (Embedding)    (None, 31, 10)            293200    \n",
      "                                                                 \n",
      " lstm_39 (LSTM)              (None, 50)                12200     \n",
      "                                                                 \n",
      " dense_72 (Dense)            (None, 64)                3264      \n",
      "                                                                 \n",
      " dropout_21 (Dropout)        (None, 64)                0         \n",
      "                                                                 \n",
      " dense_73 (Dense)            (None, 1)                 65        \n",
      "                                                                 \n",
      "=================================================================\n",
      "Total params: 308,729\n",
      "Trainable params: 308,729\n",
      "Non-trainable params: 0\n",
      "_________________________________________________________________\n"
     ]
    }
   ],
   "source": [
    "# Long Short Term Memory network.\n",
    "input_length_value = Tweet_Length\n",
    "\n",
    "hidden_units = 128\n",
    "embed_units = 10\n",
    "\n",
    "RNN_model = Sequential()\n",
    "RNN_model.add(Embedding(Train_Word_Count, embed_units, input_length = input_length_value))\n",
    "\n",
    "#RNN_model.add(LSTM(64, return_sequences=False, dropout=0.1, recurrent_dropout=0.1))\n",
    "RNN_model.add(LSTM(units=50))\n",
    "#RNN_model.add(Bidirectional(LSTM(hidden_units)))\n",
    "\n",
    "#RNN_model.add(Dropout(0.2))\n",
    "RNN_model.add(Dense(64, activation='relu'))\n",
    "RNN_model.add(Dropout(0.1))\n",
    "RNN_model.add(Dense(1, activation='sigmoid'))\n",
    "\n",
    "Optimizer1 = Adam(learning_rate=0.001)\n",
    "\n",
    "RNN_model.compile(optimizer=Optimizer1, loss = tf.keras.losses.BinaryCrossentropy(from_logits=True), metrics = ['accuracy'])\n",
    "#RNN_model.compile(loss = 'binary_crossentropy',optimizer = 'adam',metrics = ['accuracy'])\n",
    "\n",
    "RNN_model.summary()"
   ]
  },
  {
   "cell_type": "markdown",
   "id": "310aa5ac",
   "metadata": {},
   "source": [
    "## Fitted Model\n",
    "### I ended up using a batch size and epoch range similar to the week 3 project as it again worked well. Shuffle was set to to true, but I found that this time around the fit after it was run was retaining information from the previous run. I would change the number of epochs and it would overfit within 2 epochs and accuracy score was at approximately 0.98 almost immediately"
   ]
  },
  {
   "cell_type": "code",
   "execution_count": 132,
   "id": "33c059b4",
   "metadata": {},
   "outputs": [
    {
     "name": "stdout",
     "output_type": "stream",
     "text": [
      "Epoch 1/8\n",
      "9/9 [==============================] - 3s 215ms/step - loss: 0.6890 - accuracy: 0.5599 - val_loss: 0.6793 - val_accuracy: 0.5750\n",
      "Epoch 2/8\n",
      "9/9 [==============================] - 1s 159ms/step - loss: 0.6799 - accuracy: 0.5609 - val_loss: 0.6717 - val_accuracy: 0.5750\n",
      "Epoch 3/8\n",
      "9/9 [==============================] - 1s 158ms/step - loss: 0.6665 - accuracy: 0.5609 - val_loss: 0.6540 - val_accuracy: 0.5797\n",
      "Epoch 4/8\n",
      "9/9 [==============================] - 1s 159ms/step - loss: 0.6295 - accuracy: 0.6205 - val_loss: 0.6158 - val_accuracy: 0.6745\n",
      "Epoch 5/8\n",
      "9/9 [==============================] - 1s 149ms/step - loss: 0.5663 - accuracy: 0.7645 - val_loss: 0.5712 - val_accuracy: 0.7326\n",
      "Epoch 6/8\n",
      "9/9 [==============================] - 1s 154ms/step - loss: 0.4640 - accuracy: 0.8285 - val_loss: 0.5449 - val_accuracy: 0.7270\n",
      "Epoch 7/8\n",
      "9/9 [==============================] - 1s 157ms/step - loss: 0.3592 - accuracy: 0.8707 - val_loss: 0.5195 - val_accuracy: 0.7627\n",
      "Epoch 8/8\n",
      "9/9 [==============================] - 1s 144ms/step - loss: 0.2743 - accuracy: 0.9076 - val_loss: 0.5385 - val_accuracy: 0.7627\n"
     ]
    }
   ],
   "source": [
    "batch_size = 512\n",
    "Epoch_Count = 8\n",
    "\n",
    "RNN_model_history = RNN_model.fit(X_train, Y_train, \n",
    "                          shuffle = True,\n",
    "                          validation_split=0.2,\n",
    "                          batch_size = batch_size, \n",
    "                          epochs = Epoch_Count \n",
    "                          )"
   ]
  },
  {
   "cell_type": "code",
   "execution_count": 133,
   "id": "f12660f1",
   "metadata": {},
   "outputs": [
    {
     "data": {
      "image/png": "[encoded data removed]",
      "text/plain": [
       "<Figure size 432x288 with 1 Axes>"
      ]
     },
     "metadata": {
      "needs_background": "light"
     },
     "output_type": "display_data"
    },
    {
     "data": {
      "text/plain": [
       "<Figure size 432x288 with 0 Axes>"
      ]
     },
     "metadata": {},
     "output_type": "display_data"
    }
   ],
   "source": [
    "plt.plot(RNN_model_history.history['loss'], label='train loss')\n",
    "plt.plot(RNN_model_history.history['val_loss'], label='validate loss')\n",
    "plt.ylim(0.0, 1.0)\n",
    "plt.legend()\n",
    "plt.show()\n",
    "plt.savefig('Loss_Comparison')"
   ]
  },
  {
   "cell_type": "code",
   "execution_count": 134,
   "id": "36250739",
   "metadata": {},
   "outputs": [
    {
     "data": {
      "image/png": "[encoded data removed]",
      "text/plain": [
       "<Figure size 432x288 with 1 Axes>"
      ]
     },
     "metadata": {
      "needs_background": "light"
     },
     "output_type": "display_data"
    },
    {
     "data": {
      "text/plain": [
       "<Figure size 432x288 with 0 Axes>"
      ]
     },
     "metadata": {},
     "output_type": "display_data"
    }
   ],
   "source": [
    "plt.plot(RNN_model_history.history['accuracy'], label='train accuracy')\n",
    "plt.plot(RNN_model_history.history['val_accuracy'], label='validate accuracy')\n",
    "plt.ylim(0.5, 1.0)\n",
    "plt.legend()\n",
    "plt.show()\n",
    "plt.savefig('Accuracy_Comparison')"
   ]
  },
  {
   "cell_type": "markdown",
   "id": "b5fd472f",
   "metadata": {},
   "source": [
    "## Predict test values"
   ]
  },
  {
   "cell_type": "code",
   "execution_count": 135,
   "id": "91e24db6",
   "metadata": {},
   "outputs": [
    {
     "name": "stdout",
     "output_type": "stream",
     "text": [
      "102/102 [==============================] - 1s 4ms/step\n"
     ]
    }
   ],
   "source": [
    "RNN_Predict = RNN_model.predict(Test_padded)"
   ]
  },
  {
   "cell_type": "code",
   "execution_count": 136,
   "id": "7fdb3dce",
   "metadata": {},
   "outputs": [
    {
     "name": "stdout",
     "output_type": "stream",
     "text": [
      "3263\n",
      "<class 'numpy.ndarray'>\n",
      "[[0.5445302 ]\n",
      " [0.5950188 ]\n",
      " [0.8895033 ]\n",
      " ...\n",
      " [0.74240845]\n",
      " [0.87798476]\n",
      " [0.8460838 ]]\n"
     ]
    }
   ],
   "source": [
    "print(len(RNN_Predict))\n",
    "print(type(RNN_Predict))\n",
    "print(RNN_Predict)"
   ]
  },
  {
   "cell_type": "markdown",
   "id": "19826ff5",
   "metadata": {},
   "source": [
    "## Code to create file for Kaggle submission\n",
    "### This submission required the final values be either 1 or 0 so the predicted values are rounded to an INT type and the test data set's \"target\" field set equal to that."
   ]
  },
  {
   "cell_type": "code",
   "execution_count": 137,
   "id": "24917e8c",
   "metadata": {},
   "outputs": [
    {
     "name": "stdout",
     "output_type": "stream",
     "text": [
      "   id  target\n",
      "0   0       1\n",
      "1   2       1\n",
      "2   3       1\n",
      "3   9       1\n",
      "4  11       1\n"
     ]
    }
   ],
   "source": [
    "Tweet_Submission = Tweet_Test_Data.copy()\n",
    "Tweet_Submission['target'] = np.round(RNN_Predict).astype(int)\n",
    "Tweet_Submission = Tweet_Submission.drop(['keyword', 'location','text'], axis=1)\n",
    "print(Tweet_Submission.head())\n",
    "\n",
    "Tweet_Submission.to_csv('Tweet_Kaggle_submission_Simple_LSTM_8.csv', index=False)\n",
    "\n"
   ]
  },
  {
   "cell_type": "code",
   "execution_count": null,
   "id": "d12aaa0b",
   "metadata": {},
   "outputs": [],
   "source": []
  }
 ],
 "metadata": {
  "kernelspec": {
   "display_name": "Python 3 (ipykernel)",
   "language": "python",
   "name": "python3"
  },
  "language_info": {
   "codemirror_mode": {
    "name": "ipython",
    "version": 3
   },
   "file_extension": ".py",
   "mimetype": "text/x-python",
   "name": "python",
   "nbconvert_exporter": "python",
   "pygments_lexer": "ipython3",
   "version": "3.10.6"
  }
 },
 "nbformat": 4,
 "nbformat_minor": 5
}
